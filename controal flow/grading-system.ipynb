{
 "cells": [
  {
   "cell_type": "code",
   "execution_count": 5,
   "id": "27819a38",
   "metadata": {},
   "outputs": [
    {
     "name": "stdout",
     "output_type": "stream",
     "text": [
      "total marks:  50\n",
      "E\n"
     ]
    }
   ],
   "source": [
    "mark = int(input(\"total marks:  \"))\n",
    "\n",
    "if mark >= 90:\n",
    "    grade = \"A\"\n",
    "elif mark >= 80:\n",
    "    grade = \"B\"\n",
    "elif mark >= 70:\n",
    "    grade = \"C\"\n",
    "elif mark >= 60:\n",
    "    grade = \"D\"\n",
    "elif mark < 60:\n",
    "    grade = \"E\"\n",
    "else:\n",
    "    grade = \"INVALID INPUT\"\n",
    "print(grade)"
   ]
  },
  {
   "cell_type": "code",
   "execution_count": null,
   "id": "88682e0d",
   "metadata": {},
   "outputs": [],
   "source": []
  }
 ],
 "metadata": {
  "kernelspec": {
   "display_name": "Python 3 (ipykernel)",
   "language": "python",
   "name": "python3"
  },
  "language_info": {
   "codemirror_mode": {
    "name": "ipython",
    "version": 3
   },
   "file_extension": ".py",
   "mimetype": "text/x-python",
   "name": "python",
   "nbconvert_exporter": "python",
   "pygments_lexer": "ipython3",
   "version": "3.11.4"
  }
 },
 "nbformat": 4,
 "nbformat_minor": 5
}
