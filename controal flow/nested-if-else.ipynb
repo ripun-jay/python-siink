{
 "cells": [
  {
   "cell_type": "markdown",
   "id": "e8a46f70",
   "metadata": {},
   "source": [
    "### have multiple cobination of condions --> more then 2 condion  "
   ]
  },
  {
   "cell_type": "code",
   "execution_count": 2,
   "id": "ff9c8256",
   "metadata": {},
   "outputs": [
    {
     "name": "stdout",
     "output_type": "stream",
     "text": [
      "age:  18\n",
      "gender:  f\n",
      "you can\n"
     ]
    }
   ],
   "source": [
    "# eligible to get married or not F--> 18 M---> 21\n",
    "\n",
    "age = int(input(\"age:  \"))\n",
    "gender = input(\"gender:  \").lower()\n",
    "\n",
    "if age>= 21:\n",
    "    print(\"You Can\")\n",
    "else:\n",
    "    if age>=18 and gender == \"f\":\n",
    "        print(\"you can\")\n",
    "        \n",
    "    else:\n",
    "        print(\"you cant\")\n",
    "    "
   ]
  },
  {
   "cell_type": "code",
   "execution_count": null,
   "id": "43650a31",
   "metadata": {},
   "outputs": [],
   "source": []
  }
 ],
 "metadata": {
  "kernelspec": {
   "display_name": "Python 3 (ipykernel)",
   "language": "python",
   "name": "python3"
  },
  "language_info": {
   "codemirror_mode": {
    "name": "ipython",
    "version": 3
   },
   "file_extension": ".py",
   "mimetype": "text/x-python",
   "name": "python",
   "nbconvert_exporter": "python",
   "pygments_lexer": "ipython3",
   "version": "3.11.4"
  }
 },
 "nbformat": 4,
 "nbformat_minor": 5
}
