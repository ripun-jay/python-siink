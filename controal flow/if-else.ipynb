{
 "cells": [
  {
   "cell_type": "markdown",
   "id": "bdd03eb9",
   "metadata": {},
   "source": [
    "###  condtional operations -->  what to do depends on situation"
   ]
  },
  {
   "cell_type": "code",
   "execution_count": 1,
   "id": "50e17e1e",
   "metadata": {},
   "outputs": [
    {
     "name": "stdout",
     "output_type": "stream",
     "text": [
      "enter age:  5\n",
      "Not Eligible\n"
     ]
    }
   ],
   "source": [
    "age = int(input(\"enter age:  \"))\n",
    "if age> 18:\n",
    "    print(\"you are eligible to get driving liceance\")\n",
    "else: \n",
    "    print(\"Not Eligible\")"
   ]
  },
  {
   "cell_type": "code",
   "execution_count": null,
   "id": "3b46dfd4",
   "metadata": {},
   "outputs": [],
   "source": []
  }
 ],
 "metadata": {
  "kernelspec": {
   "display_name": "Python 3 (ipykernel)",
   "language": "python",
   "name": "python3"
  },
  "language_info": {
   "codemirror_mode": {
    "name": "ipython",
    "version": 3
   },
   "file_extension": ".py",
   "mimetype": "text/x-python",
   "name": "python",
   "nbconvert_exporter": "python",
   "pygments_lexer": "ipython3",
   "version": "3.11.4"
  }
 },
 "nbformat": 4,
 "nbformat_minor": 5
}
