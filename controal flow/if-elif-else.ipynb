{
 "cells": [
  {
   "cell_type": "markdown",
   "id": "b847536b",
   "metadata": {},
   "source": [
    "###  usually for only one true condions amoung more then two conditions"
   ]
  },
  {
   "cell_type": "code",
   "execution_count": 4,
   "id": "49e5128b",
   "metadata": {},
   "outputs": [
    {
     "name": "stdout",
     "output_type": "stream",
     "text": [
      "age:  12\n",
      "Yes\n"
     ]
    }
   ],
   "source": [
    "#  eligibles age <12 age>60\n",
    "\n",
    "age = int(input(\"age:  \"))\n",
    "if age >=60:\n",
    "    print(\"Yes\")\n",
    "elif age > 12:\n",
    "    print(\"No\")\n",
    "else:\n",
    "    print(\"Yes\")"
   ]
  },
  {
   "cell_type": "code",
   "execution_count": null,
   "id": "9df16a04",
   "metadata": {},
   "outputs": [],
   "source": []
  }
 ],
 "metadata": {
  "kernelspec": {
   "display_name": "Python 3 (ipykernel)",
   "language": "python",
   "name": "python3"
  },
  "language_info": {
   "codemirror_mode": {
    "name": "ipython",
    "version": 3
   },
   "file_extension": ".py",
   "mimetype": "text/x-python",
   "name": "python",
   "nbconvert_exporter": "python",
   "pygments_lexer": "ipython3",
   "version": "3.11.4"
  }
 },
 "nbformat": 4,
 "nbformat_minor": 5
}
