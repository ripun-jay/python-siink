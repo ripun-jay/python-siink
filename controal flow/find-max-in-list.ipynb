{
 "cells": [
  {
   "cell_type": "code",
   "execution_count": 6,
   "id": "36f77d49",
   "metadata": {},
   "outputs": [],
   "source": [
    "marks = [15,10,12,15,0,2,5,4,55,4,5,5,55,54,55,6,6,58,2,100,4,5]"
   ]
  },
  {
   "cell_type": "code",
   "execution_count": 7,
   "id": "881e969d",
   "metadata": {},
   "outputs": [
    {
     "name": "stdout",
     "output_type": "stream",
     "text": [
      "100\n"
     ]
    }
   ],
   "source": [
    "highest = marks[-1]\n",
    "for i in marks:\n",
    "    if i > highest:\n",
    "        highest = i\n",
    "print(highest)"
   ]
  },
  {
   "cell_type": "code",
   "execution_count": null,
   "id": "c18190fb",
   "metadata": {},
   "outputs": [],
   "source": []
  }
 ],
 "metadata": {
  "kernelspec": {
   "display_name": "Python 3 (ipykernel)",
   "language": "python",
   "name": "python3"
  },
  "language_info": {
   "codemirror_mode": {
    "name": "ipython",
    "version": 3
   },
   "file_extension": ".py",
   "mimetype": "text/x-python",
   "name": "python",
   "nbconvert_exporter": "python",
   "pygments_lexer": "ipython3",
   "version": "3.11.4"
  }
 },
 "nbformat": 4,
 "nbformat_minor": 5
}
