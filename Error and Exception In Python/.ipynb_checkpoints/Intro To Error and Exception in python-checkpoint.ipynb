{
 "cells": [
  {
   "cell_type": "markdown",
   "id": "cf925464",
   "metadata": {},
   "source": [
    "# Error:-  Faulty Code\n",
    "* while our code has incorrect syntex\n",
    "\n",
    "# Exception:- right systex but limitations on data/ wrong logic \n",
    "* our code syntex is correct but due to limitation on data type and data structures our code raise error\n",
    "* these types of error comes under exception"
   ]
  },
  {
   "cell_type": "markdown",
   "id": "093321b6",
   "metadata": {},
   "source": [
    "# how error effect our program\n",
    "> When our program excecute error code it will stop excecuting the program further, so by this it will affect or production for this we use error handling methods"
   ]
  },
  {
   "cell_type": "markdown",
   "id": "80b471ad",
   "metadata": {},
   "source": [
    "## Some Error Example\n",
    "1. system error\n",
    "2. name error\n",
    "3. type error\n",
    "4. file not found\n",
    "5. zero division error\n",
    "6. indention error"
   ]
  },
  {
   "cell_type": "code",
   "execution_count": null,
   "id": "42f264c2",
   "metadata": {},
   "outputs": [],
   "source": []
  }
 ],
 "metadata": {
  "kernelspec": {
   "display_name": "Python 3 (ipykernel)",
   "language": "python",
   "name": "python3"
  },
  "language_info": {
   "codemirror_mode": {
    "name": "ipython",
    "version": 3
   },
   "file_extension": ".py",
   "mimetype": "text/x-python",
   "name": "python",
   "nbconvert_exporter": "python",
   "pygments_lexer": "ipython3",
   "version": "3.11.4"
  }
 },
 "nbformat": 4,
 "nbformat_minor": 5
}
