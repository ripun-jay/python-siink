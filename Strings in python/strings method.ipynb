{
 "cells": [
  {
   "cell_type": "raw",
   "id": "1695b36f",
   "metadata": {},
   "source": [
    "String methods:\n",
    "\n",
    "- strip -> lstrip, rstrip \n",
    "- capitalize\n",
    "- title\n",
    "- upper\n",
    "- lower\n",
    "- find\n",
    "- count\n",
    "- index\n",
    "- replace\n",
    "- split\n",
    "- islower\n",
    "- isupper\n",
    "- isnumeric\n",
    "- isapha\n"
   ]
  },
  {
   "cell_type": "code",
   "execution_count": 1,
   "id": "4adbf936",
   "metadata": {},
   "outputs": [
    {
     "data": {
      "text/plain": [
       "'Ramesh Kumar Singh'"
      ]
     },
     "execution_count": 1,
     "metadata": {},
     "output_type": "execute_result"
    }
   ],
   "source": [
    "name = \"  Ramesh Kumar Singh  \"\n",
    "name.strip()"
   ]
  },
  {
   "cell_type": "code",
   "execution_count": 2,
   "id": "66114a5c",
   "metadata": {},
   "outputs": [
    {
     "data": {
      "text/plain": [
       "'Ramesh Kumar Singh  '"
      ]
     },
     "execution_count": 2,
     "metadata": {},
     "output_type": "execute_result"
    }
   ],
   "source": [
    "name.lstrip()"
   ]
  },
  {
   "cell_type": "code",
   "execution_count": 3,
   "id": "cfd8d63e",
   "metadata": {},
   "outputs": [
    {
     "data": {
      "text/plain": [
       "'  Ramesh Kumar Singh'"
      ]
     },
     "execution_count": 3,
     "metadata": {},
     "output_type": "execute_result"
    }
   ],
   "source": [
    "name.rstrip()"
   ]
  },
  {
   "cell_type": "code",
   "execution_count": 4,
   "id": "aa1deca5",
   "metadata": {},
   "outputs": [
    {
     "name": "stdout",
     "output_type": "stream",
     "text": [
      "\n",
      "Hello\n",
      "\n"
     ]
    }
   ],
   "source": [
    "message = \"\"\"\n",
    "Hello\n",
    "\"\"\"\n",
    "print(message)"
   ]
  },
  {
   "cell_type": "code",
   "execution_count": 5,
   "id": "2f34b085",
   "metadata": {},
   "outputs": [
    {
     "data": {
      "text/plain": [
       "'Hello'"
      ]
     },
     "execution_count": 5,
     "metadata": {},
     "output_type": "execute_result"
    }
   ],
   "source": [
    "message.strip()"
   ]
  },
  {
   "cell_type": "code",
   "execution_count": 7,
   "id": "0723ab58",
   "metadata": {},
   "outputs": [
    {
     "name": "stdout",
     "output_type": "stream",
     "text": [
      "\n",
      "Hello\n"
     ]
    }
   ],
   "source": [
    "print(message.rstrip())"
   ]
  },
  {
   "cell_type": "code",
   "execution_count": 8,
   "id": "0ffcc5bd",
   "metadata": {},
   "outputs": [],
   "source": [
    "# cap"
   ]
  },
  {
   "cell_type": "code",
   "execution_count": 9,
   "id": "9ea25f50",
   "metadata": {},
   "outputs": [
    {
     "data": {
      "text/plain": [
       "'Rahul singh kumar'"
      ]
     },
     "execution_count": 9,
     "metadata": {},
     "output_type": "execute_result"
    }
   ],
   "source": [
    "name = \"rahul singh kumar\"\n",
    "name.capitalize()"
   ]
  },
  {
   "cell_type": "code",
   "execution_count": 10,
   "id": "b89cb9b5",
   "metadata": {},
   "outputs": [],
   "source": [
    "# tir"
   ]
  },
  {
   "cell_type": "code",
   "execution_count": 11,
   "id": "13a4d02a",
   "metadata": {},
   "outputs": [
    {
     "data": {
      "text/plain": [
       "'Rahul Singh Kumar'"
      ]
     },
     "execution_count": 11,
     "metadata": {},
     "output_type": "execute_result"
    }
   ],
   "source": [
    "name.title()"
   ]
  },
  {
   "cell_type": "code",
   "execution_count": 12,
   "id": "1fc0c1e9",
   "metadata": {},
   "outputs": [],
   "source": [
    "# upp l"
   ]
  },
  {
   "cell_type": "code",
   "execution_count": 13,
   "id": "6508ad22",
   "metadata": {},
   "outputs": [
    {
     "data": {
      "text/plain": [
       "'RAHUL SINGH KUMAR'"
      ]
     },
     "execution_count": 13,
     "metadata": {},
     "output_type": "execute_result"
    }
   ],
   "source": [
    "name.upper()"
   ]
  },
  {
   "cell_type": "code",
   "execution_count": 14,
   "id": "ffd351ef",
   "metadata": {},
   "outputs": [
    {
     "data": {
      "text/plain": [
       "'rahul singh kumar'"
      ]
     },
     "execution_count": 14,
     "metadata": {},
     "output_type": "execute_result"
    }
   ],
   "source": [
    "name.lower()"
   ]
  },
  {
   "cell_type": "code",
   "execution_count": 15,
   "id": "d0987f96",
   "metadata": {},
   "outputs": [],
   "source": [
    "# find"
   ]
  },
  {
   "cell_type": "code",
   "execution_count": 16,
   "id": "a9b741ef",
   "metadata": {},
   "outputs": [
    {
     "data": {
      "text/plain": [
       "2"
      ]
     },
     "execution_count": 16,
     "metadata": {},
     "output_type": "execute_result"
    }
   ],
   "source": [
    "name.find(\"h\")"
   ]
  },
  {
   "cell_type": "code",
   "execution_count": 17,
   "id": "5ef0dabf",
   "metadata": {},
   "outputs": [],
   "source": [
    "# count"
   ]
  },
  {
   "cell_type": "code",
   "execution_count": 18,
   "id": "a84b0d39",
   "metadata": {},
   "outputs": [
    {
     "data": {
      "text/plain": [
       "2"
      ]
     },
     "execution_count": 18,
     "metadata": {},
     "output_type": "execute_result"
    }
   ],
   "source": [
    "name.count(\"h\")"
   ]
  },
  {
   "cell_type": "code",
   "execution_count": 19,
   "id": "b3d2d4d9",
   "metadata": {},
   "outputs": [],
   "source": [
    "# index"
   ]
  },
  {
   "cell_type": "code",
   "execution_count": 20,
   "id": "acc4fa06",
   "metadata": {},
   "outputs": [
    {
     "data": {
      "text/plain": [
       "7"
      ]
     },
     "execution_count": 20,
     "metadata": {},
     "output_type": "execute_result"
    }
   ],
   "source": [
    "name.index(\"i\")"
   ]
  },
  {
   "cell_type": "code",
   "execution_count": 21,
   "id": "b4d1fc3c",
   "metadata": {},
   "outputs": [
    {
     "data": {
      "text/plain": [
       "0"
      ]
     },
     "execution_count": 21,
     "metadata": {},
     "output_type": "execute_result"
    }
   ],
   "source": [
    "name.index(\"ra\")"
   ]
  },
  {
   "cell_type": "code",
   "execution_count": 23,
   "id": "0dafda05",
   "metadata": {},
   "outputs": [],
   "source": [
    "# replace"
   ]
  },
  {
   "cell_type": "code",
   "execution_count": 24,
   "id": "8e1ca82f",
   "metadata": {},
   "outputs": [
    {
     "data": {
      "text/plain": [
       "'123ahul singh kuma123'"
      ]
     },
     "execution_count": 24,
     "metadata": {},
     "output_type": "execute_result"
    }
   ],
   "source": [
    "name.replace(\"r\", \"123\")"
   ]
  },
  {
   "cell_type": "code",
   "execution_count": 25,
   "id": "13ed4078",
   "metadata": {},
   "outputs": [],
   "source": [
    "# split"
   ]
  },
  {
   "cell_type": "code",
   "execution_count": 26,
   "id": "dd4481e8",
   "metadata": {},
   "outputs": [
    {
     "data": {
      "text/plain": [
       "['rahul', 'singh', 'kumar']"
      ]
     },
     "execution_count": 26,
     "metadata": {},
     "output_type": "execute_result"
    }
   ],
   "source": [
    "name.split()"
   ]
  },
  {
   "cell_type": "code",
   "execution_count": 27,
   "id": "670c0af7",
   "metadata": {},
   "outputs": [
    {
     "data": {
      "text/plain": [
       "['rahul s', 'ngh kumar']"
      ]
     },
     "execution_count": 27,
     "metadata": {},
     "output_type": "execute_result"
    }
   ],
   "source": [
    "name.split(\"i\")"
   ]
  },
  {
   "cell_type": "code",
   "execution_count": 28,
   "id": "8a88e8b7",
   "metadata": {},
   "outputs": [
    {
     "data": {
      "text/plain": [
       "['rahul singh kumar']"
      ]
     },
     "execution_count": 28,
     "metadata": {},
     "output_type": "execute_result"
    }
   ],
   "source": [
    "name.split(\",\")"
   ]
  },
  {
   "cell_type": "code",
   "execution_count": 29,
   "id": "a7d76976",
   "metadata": {},
   "outputs": [],
   "source": [
    "# binary result method\n",
    "# isupper\n",
    "\n",
    "name = \"NAME\""
   ]
  },
  {
   "cell_type": "code",
   "execution_count": 30,
   "id": "dfb576d9",
   "metadata": {},
   "outputs": [
    {
     "data": {
      "text/plain": [
       "True"
      ]
     },
     "execution_count": 30,
     "metadata": {},
     "output_type": "execute_result"
    }
   ],
   "source": [
    "name.isupper()"
   ]
  },
  {
   "cell_type": "code",
   "execution_count": 31,
   "id": "eda5d43f",
   "metadata": {},
   "outputs": [
    {
     "data": {
      "text/plain": [
       "False"
      ]
     },
     "execution_count": 31,
     "metadata": {},
     "output_type": "execute_result"
    }
   ],
   "source": [
    "name =\"Name\"\n",
    "name.isupper()"
   ]
  },
  {
   "cell_type": "code",
   "execution_count": 32,
   "id": "730073da",
   "metadata": {},
   "outputs": [],
   "source": [
    "# islower"
   ]
  },
  {
   "cell_type": "code",
   "execution_count": 33,
   "id": "fe72b324",
   "metadata": {},
   "outputs": [
    {
     "data": {
      "text/plain": [
       "'name'"
      ]
     },
     "execution_count": 33,
     "metadata": {},
     "output_type": "execute_result"
    }
   ],
   "source": [
    "name = \"name\"\n",
    "name.lower()"
   ]
  },
  {
   "cell_type": "code",
   "execution_count": 34,
   "id": "661e1210",
   "metadata": {},
   "outputs": [
    {
     "data": {
      "text/plain": [
       "True"
      ]
     },
     "execution_count": 34,
     "metadata": {},
     "output_type": "execute_result"
    }
   ],
   "source": [
    "name = \"eame2\"\n",
    "name.islower()"
   ]
  },
  {
   "cell_type": "code",
   "execution_count": 35,
   "id": "055297c7",
   "metadata": {},
   "outputs": [],
   "source": [
    "# isnume"
   ]
  },
  {
   "cell_type": "code",
   "execution_count": 36,
   "id": "722b0401",
   "metadata": {},
   "outputs": [
    {
     "data": {
      "text/plain": [
       "True"
      ]
     },
     "execution_count": 36,
     "metadata": {},
     "output_type": "execute_result"
    }
   ],
   "source": [
    "nu = \"215\"\n",
    "nu.isnumeric()"
   ]
  },
  {
   "cell_type": "code",
   "execution_count": 37,
   "id": "10835186",
   "metadata": {},
   "outputs": [
    {
     "data": {
      "text/plain": [
       "False"
      ]
     },
     "execution_count": 37,
     "metadata": {},
     "output_type": "execute_result"
    }
   ],
   "source": [
    "name.isnumeric()"
   ]
  },
  {
   "cell_type": "code",
   "execution_count": 38,
   "id": "31af19c3",
   "metadata": {},
   "outputs": [],
   "source": [
    "# isapha"
   ]
  },
  {
   "cell_type": "code",
   "execution_count": 39,
   "id": "872eceb9",
   "metadata": {},
   "outputs": [
    {
     "data": {
      "text/plain": [
       "False"
      ]
     },
     "execution_count": 39,
     "metadata": {},
     "output_type": "execute_result"
    }
   ],
   "source": [
    "name.isalpha()"
   ]
  },
  {
   "cell_type": "code",
   "execution_count": 40,
   "id": "93d01c9a",
   "metadata": {},
   "outputs": [
    {
     "data": {
      "text/plain": [
       "True"
      ]
     },
     "execution_count": 40,
     "metadata": {},
     "output_type": "execute_result"
    }
   ],
   "source": [
    "name = \"rip\"\n",
    "name.isalnum()"
   ]
  },
  {
   "cell_type": "code",
   "execution_count": 41,
   "id": "29cb975c",
   "metadata": {},
   "outputs": [
    {
     "data": {
      "text/plain": [
       "True"
      ]
     },
     "execution_count": 41,
     "metadata": {},
     "output_type": "execute_result"
    }
   ],
   "source": [
    "name.isalpha()"
   ]
  },
  {
   "cell_type": "code",
   "execution_count": 42,
   "id": "58a8a6e2",
   "metadata": {},
   "outputs": [],
   "source": [
    "# isalpha"
   ]
  },
  {
   "cell_type": "code",
   "execution_count": 43,
   "id": "cdab58c1",
   "metadata": {},
   "outputs": [
    {
     "data": {
      "text/plain": [
       "True"
      ]
     },
     "execution_count": 43,
     "metadata": {},
     "output_type": "execute_result"
    }
   ],
   "source": [
    "n = \"ap254\"\n",
    "n.isalnum()\n"
   ]
  },
  {
   "cell_type": "code",
   "execution_count": 44,
   "id": "85a92a51",
   "metadata": {},
   "outputs": [
    {
     "data": {
      "text/plain": [
       "True"
      ]
     },
     "execution_count": 44,
     "metadata": {},
     "output_type": "execute_result"
    }
   ],
   "source": [
    "n = \"125\"\n",
    "n.isalnum()"
   ]
  },
  {
   "cell_type": "code",
   "execution_count": 45,
   "id": "f6e59b31",
   "metadata": {},
   "outputs": [
    {
     "data": {
      "text/plain": [
       "True"
      ]
     },
     "execution_count": 45,
     "metadata": {},
     "output_type": "execute_result"
    }
   ],
   "source": [
    "n = \"effg\"\n",
    "n.isalnum()"
   ]
  },
  {
   "cell_type": "code",
   "execution_count": null,
   "id": "189e973a",
   "metadata": {},
   "outputs": [],
   "source": [
    "name."
   ]
  }
 ],
 "metadata": {
  "kernelspec": {
   "display_name": "Python 3 (ipykernel)",
   "language": "python",
   "name": "python3"
  },
  "language_info": {
   "codemirror_mode": {
    "name": "ipython",
    "version": 3
   },
   "file_extension": ".py",
   "mimetype": "text/x-python",
   "name": "python",
   "nbconvert_exporter": "python",
   "pygments_lexer": "ipython3",
   "version": "3.11.4"
  }
 },
 "nbformat": 4,
 "nbformat_minor": 5
}
