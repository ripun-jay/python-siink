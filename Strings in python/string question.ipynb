{
 "cells": [
  {
   "cell_type": "markdown",
   "id": "3ad11ee7",
   "metadata": {},
   "source": [
    "### ques: print all the vowels in text"
   ]
  },
  {
   "cell_type": "code",
   "execution_count": 1,
   "id": "9be2a18f",
   "metadata": {},
   "outputs": [],
   "source": [
    "text = \"hello my name is rohit kumar, and im from pune\""
   ]
  },
  {
   "cell_type": "code",
   "execution_count": 2,
   "id": "e7aa3a89",
   "metadata": {},
   "outputs": [
    {
     "name": "stdout",
     "output_type": "stream",
     "text": [
      "e\n",
      "o\n",
      "a\n",
      "e\n",
      "i\n",
      "o\n",
      "i\n",
      "u\n",
      "a\n",
      "a\n",
      "i\n",
      "o\n",
      "u\n",
      "e\n"
     ]
    }
   ],
   "source": [
    "vowels = [\"a\", \"i\", \"e\", \"o\", \"u\"]\n",
    "for char in text:\n",
    "    if char in vowels:\n",
    "        print(char)"
   ]
  },
  {
   "cell_type": "markdown",
   "id": "ed7bcfad",
   "metadata": {},
   "source": [
    "#### count vowels in trex"
   ]
  },
  {
   "cell_type": "code",
   "execution_count": 3,
   "id": "72a10743",
   "metadata": {},
   "outputs": [
    {
     "name": "stdout",
     "output_type": "stream",
     "text": [
      "14\n"
     ]
    }
   ],
   "source": [
    "count = 0\n",
    "for char in text:\n",
    "    if char in vowels:\n",
    "        count += 1\n",
    "print(count)"
   ]
  },
  {
   "cell_type": "code",
   "execution_count": null,
   "id": "19b5e0a6",
   "metadata": {},
   "outputs": [],
   "source": []
  }
 ],
 "metadata": {
  "kernelspec": {
   "display_name": "Python 3 (ipykernel)",
   "language": "python",
   "name": "python3"
  },
  "language_info": {
   "codemirror_mode": {
    "name": "ipython",
    "version": 3
   },
   "file_extension": ".py",
   "mimetype": "text/x-python",
   "name": "python",
   "nbconvert_exporter": "python",
   "pygments_lexer": "ipython3",
   "version": "3.11.4"
  }
 },
 "nbformat": 4,
 "nbformat_minor": 5
}
