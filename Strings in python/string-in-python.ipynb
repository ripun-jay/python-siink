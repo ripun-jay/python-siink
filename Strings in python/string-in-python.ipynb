{
 "cells": [
  {
   "cell_type": "markdown",
   "id": "930d240c",
   "metadata": {},
   "source": [
    "String:- sequence of characters\n",
    "\n",
    "characters: \n",
    "English Alpha, Hindi alpha, chinese, number, emoji, \\n, space"
   ]
  },
  {
   "cell_type": "code",
   "execution_count": 3,
   "id": "339e40ce",
   "metadata": {},
   "outputs": [
    {
     "data": {
      "text/plain": [
       "False"
      ]
     },
     "execution_count": 3,
     "metadata": {},
     "output_type": "execute_result"
    }
   ],
   "source": [
    "\"rip\" == \"pir\""
   ]
  },
  {
   "cell_type": "code",
   "execution_count": 4,
   "id": "020a9364",
   "metadata": {},
   "outputs": [
    {
     "data": {
      "text/plain": [
       "str"
      ]
     },
     "execution_count": 4,
     "metadata": {},
     "output_type": "execute_result"
    }
   ],
   "source": [
    "# Create strings:\n",
    "\n",
    "s = \"rip\"\n",
    "type(s)"
   ]
  },
  {
   "cell_type": "code",
   "execution_count": 5,
   "id": "55722df9",
   "metadata": {},
   "outputs": [],
   "source": [
    "s = 'rip'"
   ]
  },
  {
   "cell_type": "code",
   "execution_count": 6,
   "id": "77fa98c5",
   "metadata": {},
   "outputs": [],
   "source": [
    "s = \"\"\"this\"\"\""
   ]
  },
  {
   "cell_type": "code",
   "execution_count": 7,
   "id": "f73234f0",
   "metadata": {},
   "outputs": [
    {
     "data": {
      "text/plain": [
       "'this\\nis my room'"
      ]
     },
     "execution_count": 7,
     "metadata": {},
     "output_type": "execute_result"
    }
   ],
   "source": [
    "s = \"\"\"this\n",
    "is my room\"\"\"\n",
    "s"
   ]
  },
  {
   "cell_type": "code",
   "execution_count": 8,
   "id": "4e15e8f9",
   "metadata": {},
   "outputs": [
    {
     "name": "stdout",
     "output_type": "stream",
     "text": [
      "this\n",
      "is my room\n"
     ]
    }
   ],
   "source": [
    "print(s)"
   ]
  },
  {
   "cell_type": "code",
   "execution_count": null,
   "id": "714e2289",
   "metadata": {},
   "outputs": [],
   "source": []
  }
 ],
 "metadata": {
  "kernelspec": {
   "display_name": "Python 3 (ipykernel)",
   "language": "python",
   "name": "python3"
  },
  "language_info": {
   "codemirror_mode": {
    "name": "ipython",
    "version": 3
   },
   "file_extension": ".py",
   "mimetype": "text/x-python",
   "name": "python",
   "nbconvert_exporter": "python",
   "pygments_lexer": "ipython3",
   "version": "3.11.4"
  }
 },
 "nbformat": 4,
 "nbformat_minor": 5
}
