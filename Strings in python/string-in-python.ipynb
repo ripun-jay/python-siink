{
 "cells": [
  {
   "cell_type": "markdown",
   "id": "f8c9bbc9",
   "metadata": {},
   "source": [
    "String:- sequence of characters\n",
    "\n",
    "characters: \n",
    "English Alpha, Hindi alpha, chinese, number, emoji, \\n, space"
   ]
  },
  {
   "cell_type": "code",
   "execution_count": 3,
   "id": "d06b427f",
   "metadata": {},
   "outputs": [
    {
     "data": {
      "text/plain": [
       "False"
      ]
     },
     "execution_count": 3,
     "metadata": {},
     "output_type": "execute_result"
    }
   ],
   "source": [
    "\"rip\" == \"pir\""
   ]
  },
  {
   "cell_type": "code",
   "execution_count": 4,
   "id": "3c818a49",
   "metadata": {},
   "outputs": [
    {
     "data": {
      "text/plain": [
       "str"
      ]
     },
     "execution_count": 4,
     "metadata": {},
     "output_type": "execute_result"
    }
   ],
   "source": [
    "# Create strings:\n",
    "\n",
    "s = \"rip\"\n",
    "type(s)"
   ]
  },
  {
   "cell_type": "code",
   "execution_count": 5,
   "id": "4e6bedbe",
   "metadata": {},
   "outputs": [],
   "source": [
    "s = 'rip'"
   ]
  },
  {
   "cell_type": "code",
   "execution_count": 6,
   "id": "a97a0bdd",
   "metadata": {},
   "outputs": [],
   "source": [
    "s = \"\"\"this\"\"\""
   ]
  },
  {
   "cell_type": "code",
   "execution_count": 7,
   "id": "8a5f679f",
   "metadata": {},
   "outputs": [
    {
     "data": {
      "text/plain": [
       "'this\\nis my room'"
      ]
     },
     "execution_count": 7,
     "metadata": {},
     "output_type": "execute_result"
    }
   ],
   "source": [
    "s = \"\"\"this\n",
    "is my room\"\"\"\n",
    "s"
   ]
  },
  {
   "cell_type": "code",
   "execution_count": 8,
   "id": "a15ca255",
   "metadata": {},
   "outputs": [
    {
     "name": "stdout",
     "output_type": "stream",
     "text": [
      "this\n",
      "is my room\n"
     ]
    }
   ],
   "source": [
    "print(s)"
   ]
  },
  {
   "cell_type": "code",
   "execution_count": 9,
   "id": "536aafca",
   "metadata": {},
   "outputs": [
    {
     "ename": "SyntaxError",
     "evalue": "unterminated string literal (detected at line 1) (2101606321.py, line 1)",
     "output_type": "error",
     "traceback": [
      "\u001b[1;36m  Cell \u001b[1;32mIn[9], line 1\u001b[1;36m\u001b[0m\n\u001b[1;33m    s = \"this\u001b[0m\n\u001b[1;37m        ^\u001b[0m\n\u001b[1;31mSyntaxError\u001b[0m\u001b[1;31m:\u001b[0m unterminated string literal (detected at line 1)\n"
     ]
    }
   ],
   "source": [
    "s = \"this\n",
    "is\""
   ]
  },
  {
   "cell_type": "code",
   "execution_count": null,
   "id": "bc77da9c",
   "metadata": {},
   "outputs": [],
   "source": []
  }
 ],
 "metadata": {
  "kernelspec": {
   "display_name": "Python 3 (ipykernel)",
   "language": "python",
   "name": "python3"
  },
  "language_info": {
   "codemirror_mode": {
    "name": "ipython",
    "version": 3
   },
   "file_extension": ".py",
   "mimetype": "text/x-python",
   "name": "python",
   "nbconvert_exporter": "python",
   "pygments_lexer": "ipython3",
   "version": "3.11.4"
  }
 },
 "nbformat": 4,
 "nbformat_minor": 5
}
