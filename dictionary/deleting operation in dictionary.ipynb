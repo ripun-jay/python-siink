{
 "cells": [
  {
   "cell_type": "code",
   "execution_count": 6,
   "id": "852190f0",
   "metadata": {},
   "outputs": [],
   "source": [
    "rohit = {\n",
    "    \"name\": \"rohit\",\n",
    "    \"age\": 26,\n",
    "    \"height\" : 5.10\n",
    "    \n",
    "}"
   ]
  },
  {
   "cell_type": "code",
   "execution_count": 2,
   "id": "ce5d4c41",
   "metadata": {},
   "outputs": [],
   "source": [
    "# pop\n",
    "# popitem"
   ]
  },
  {
   "cell_type": "code",
   "execution_count": 3,
   "id": "a14e2c0f",
   "metadata": {},
   "outputs": [
    {
     "data": {
      "text/plain": [
       "5.1"
      ]
     },
     "execution_count": 3,
     "metadata": {},
     "output_type": "execute_result"
    }
   ],
   "source": [
    "rohit.pop(\"height\")"
   ]
  },
  {
   "cell_type": "code",
   "execution_count": 4,
   "id": "3cc0f2f7",
   "metadata": {},
   "outputs": [
    {
     "data": {
      "text/plain": [
       "{'name': 'rohit', 'age': 26}"
      ]
     },
     "execution_count": 4,
     "metadata": {},
     "output_type": "execute_result"
    }
   ],
   "source": [
    "rohit"
   ]
  },
  {
   "cell_type": "code",
   "execution_count": 5,
   "id": "5d0480e9",
   "metadata": {},
   "outputs": [],
   "source": [
    "# popitem"
   ]
  },
  {
   "cell_type": "code",
   "execution_count": 7,
   "id": "924152cb",
   "metadata": {},
   "outputs": [
    {
     "data": {
      "text/plain": [
       "{'name': 'rohit', 'age': 26, 'height': 5.1}"
      ]
     },
     "execution_count": 7,
     "metadata": {},
     "output_type": "execute_result"
    }
   ],
   "source": [
    "rohit"
   ]
  },
  {
   "cell_type": "code",
   "execution_count": 8,
   "id": "4ec18de5",
   "metadata": {},
   "outputs": [
    {
     "data": {
      "text/plain": [
       "('height', 5.1)"
      ]
     },
     "execution_count": 8,
     "metadata": {},
     "output_type": "execute_result"
    }
   ],
   "source": [
    "rohit.popitem()"
   ]
  },
  {
   "cell_type": "code",
   "execution_count": 9,
   "id": "4b38565a",
   "metadata": {},
   "outputs": [
    {
     "data": {
      "text/plain": [
       "{'name': 'rohit', 'age': 26}"
      ]
     },
     "execution_count": 9,
     "metadata": {},
     "output_type": "execute_result"
    }
   ],
   "source": [
    "rohit"
   ]
  },
  {
   "cell_type": "code",
   "execution_count": 10,
   "id": "fd4960e5",
   "metadata": {},
   "outputs": [],
   "source": [
    "del rohit[\"name\"]"
   ]
  },
  {
   "cell_type": "code",
   "execution_count": 11,
   "id": "0e4f4402",
   "metadata": {},
   "outputs": [
    {
     "data": {
      "text/plain": [
       "{'age': 26}"
      ]
     },
     "execution_count": 11,
     "metadata": {},
     "output_type": "execute_result"
    }
   ],
   "source": [
    "rohit"
   ]
  },
  {
   "cell_type": "code",
   "execution_count": 12,
   "id": "4b687e10",
   "metadata": {},
   "outputs": [],
   "source": [
    "del rohit[\"age\"]"
   ]
  },
  {
   "cell_type": "code",
   "execution_count": 13,
   "id": "996b3ce9",
   "metadata": {},
   "outputs": [
    {
     "data": {
      "text/plain": [
       "{}"
      ]
     },
     "execution_count": 13,
     "metadata": {},
     "output_type": "execute_result"
    }
   ],
   "source": [
    "rohit\n"
   ]
  },
  {
   "cell_type": "code",
   "execution_count": null,
   "id": "f7e41658",
   "metadata": {},
   "outputs": [],
   "source": []
  }
 ],
 "metadata": {
  "kernelspec": {
   "display_name": "Python 3 (ipykernel)",
   "language": "python",
   "name": "python3"
  },
  "language_info": {
   "codemirror_mode": {
    "name": "ipython",
    "version": 3
   },
   "file_extension": ".py",
   "mimetype": "text/x-python",
   "name": "python",
   "nbconvert_exporter": "python",
   "pygments_lexer": "ipython3",
   "version": "3.11.4"
  }
 },
 "nbformat": 4,
 "nbformat_minor": 5
}
