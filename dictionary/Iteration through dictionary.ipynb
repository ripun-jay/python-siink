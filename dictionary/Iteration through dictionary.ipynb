{
 "cells": [
  {
   "cell_type": "code",
   "execution_count": 1,
   "id": "2b335a54",
   "metadata": {},
   "outputs": [],
   "source": [
    "rohit = {\n",
    "    \"name\": \"rohit\",\n",
    "    \"age\": 26,\n",
    "    \"height\" : 5.10\n",
    "    \n",
    "}"
   ]
  },
  {
   "cell_type": "code",
   "execution_count": 2,
   "id": "2aa75e49",
   "metadata": {},
   "outputs": [
    {
     "name": "stdout",
     "output_type": "stream",
     "text": [
      "name\n",
      "age\n",
      "height\n"
     ]
    }
   ],
   "source": [
    "for i in rohit:\n",
    "    print(i)"
   ]
  },
  {
   "cell_type": "code",
   "execution_count": 3,
   "id": "95a1499c",
   "metadata": {},
   "outputs": [
    {
     "name": "stdout",
     "output_type": "stream",
     "text": [
      "rohit\n",
      "26\n",
      "5.1\n"
     ]
    }
   ],
   "source": [
    "for i in rohit.values():\n",
    "    print(i)"
   ]
  },
  {
   "cell_type": "code",
   "execution_count": 5,
   "id": "d014ec90",
   "metadata": {},
   "outputs": [
    {
     "name": "stdout",
     "output_type": "stream",
     "text": [
      "('name', 'rohit')\n",
      "<class 'tuple'>\n",
      "('age', 26)\n",
      "<class 'tuple'>\n",
      "('height', 5.1)\n",
      "<class 'tuple'>\n"
     ]
    }
   ],
   "source": [
    "for i in rohit.items():\n",
    "    print(i)\n",
    "    print(type(i))"
   ]
  },
  {
   "cell_type": "code",
   "execution_count": 6,
   "id": "75614996",
   "metadata": {},
   "outputs": [
    {
     "name": "stdout",
     "output_type": "stream",
     "text": [
      "name rohit\n",
      "<class 'str'>\n",
      "age 26\n",
      "<class 'str'>\n",
      "height 5.1\n",
      "<class 'str'>\n"
     ]
    }
   ],
   "source": [
    "for i,j in rohit.items():\n",
    "    print(i,j)\n",
    "    print(type(i))"
   ]
  },
  {
   "cell_type": "code",
   "execution_count": 7,
   "id": "e3a623e4",
   "metadata": {},
   "outputs": [
    {
     "name": "stdout",
     "output_type": "stream",
     "text": [
      "rohit\n",
      "26\n",
      "5.1\n"
     ]
    }
   ],
   "source": [
    "for i in rohit:\n",
    "    print(rohit[i])"
   ]
  },
  {
   "cell_type": "code",
   "execution_count": null,
   "id": "016ac5f4",
   "metadata": {},
   "outputs": [],
   "source": []
  }
 ],
 "metadata": {
  "kernelspec": {
   "display_name": "Python 3 (ipykernel)",
   "language": "python",
   "name": "python3"
  },
  "language_info": {
   "codemirror_mode": {
    "name": "ipython",
    "version": 3
   },
   "file_extension": ".py",
   "mimetype": "text/x-python",
   "name": "python",
   "nbconvert_exporter": "python",
   "pygments_lexer": "ipython3",
   "version": "3.11.4"
  }
 },
 "nbformat": 4,
 "nbformat_minor": 5
}
