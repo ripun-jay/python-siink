{
 "cells": [
  {
   "cell_type": "code",
   "execution_count": 1,
   "id": "ea92b157",
   "metadata": {},
   "outputs": [],
   "source": [
    "# dict\n",
    "\n",
    "d = {}"
   ]
  },
  {
   "cell_type": "code",
   "execution_count": 2,
   "id": "82cdde15",
   "metadata": {},
   "outputs": [
    {
     "data": {
      "text/plain": [
       "dict"
      ]
     },
     "execution_count": 2,
     "metadata": {},
     "output_type": "execute_result"
    }
   ],
   "source": [
    "type(d)"
   ]
  },
  {
   "cell_type": "code",
   "execution_count": 3,
   "id": "093707bf",
   "metadata": {},
   "outputs": [],
   "source": [
    "d = {1,2,3,4}"
   ]
  },
  {
   "cell_type": "code",
   "execution_count": 4,
   "id": "aa3da759",
   "metadata": {},
   "outputs": [
    {
     "data": {
      "text/plain": [
       "set"
      ]
     },
     "execution_count": 4,
     "metadata": {},
     "output_type": "execute_result"
    }
   ],
   "source": [
    "type(d) "
   ]
  },
  {
   "cell_type": "code",
   "execution_count": 5,
   "id": "f6616508",
   "metadata": {},
   "outputs": [],
   "source": [
    "d = {\n",
    "    \"name\": \"rahul\",\n",
    "    \"age\": 52,\n",
    "    \"lang\": \"HIndi\"\n",
    "}"
   ]
  },
  {
   "cell_type": "code",
   "execution_count": 6,
   "id": "a9f6076c",
   "metadata": {},
   "outputs": [
    {
     "data": {
      "text/plain": [
       "{'name': 'rahul', 'age': 52, 'lang': 'HIndi'}"
      ]
     },
     "execution_count": 6,
     "metadata": {},
     "output_type": "execute_result"
    }
   ],
   "source": [
    "d"
   ]
  },
  {
   "cell_type": "code",
   "execution_count": 7,
   "id": "b88d6f6a",
   "metadata": {},
   "outputs": [
    {
     "data": {
      "text/plain": [
       "dict"
      ]
     },
     "execution_count": 7,
     "metadata": {},
     "output_type": "execute_result"
    }
   ],
   "source": [
    "type(d)"
   ]
  },
  {
   "cell_type": "code",
   "execution_count": 8,
   "id": "8435e379",
   "metadata": {},
   "outputs": [
    {
     "data": {
      "text/plain": [
       "{}"
      ]
     },
     "execution_count": 8,
     "metadata": {},
     "output_type": "execute_result"
    }
   ],
   "source": [
    "# dict\n",
    "\n",
    "d = dict()\n",
    "d"
   ]
  },
  {
   "cell_type": "code",
   "execution_count": 11,
   "id": "3584b84f",
   "metadata": {},
   "outputs": [],
   "source": [
    "d = dict([[1,2],[2,3]])"
   ]
  },
  {
   "cell_type": "code",
   "execution_count": 12,
   "id": "8d6a10ac",
   "metadata": {},
   "outputs": [
    {
     "data": {
      "text/plain": [
       "{1: 2, 2: 3}"
      ]
     },
     "execution_count": 12,
     "metadata": {},
     "output_type": "execute_result"
    }
   ],
   "source": [
    "d"
   ]
  },
  {
   "cell_type": "code",
   "execution_count": 13,
   "id": "19541fe4",
   "metadata": {},
   "outputs": [
    {
     "data": {
      "text/plain": [
       "3"
      ]
     },
     "execution_count": 13,
     "metadata": {},
     "output_type": "execute_result"
    }
   ],
   "source": [
    "d[2]"
   ]
  },
  {
   "cell_type": "code",
   "execution_count": 14,
   "id": "b9c6c1b2",
   "metadata": {},
   "outputs": [],
   "source": [
    "# zip"
   ]
  },
  {
   "cell_type": "code",
   "execution_count": 26,
   "id": "6ccec099",
   "metadata": {},
   "outputs": [],
   "source": [
    "name = [\"rahul\", \"rohit\", \"modi\"]\n",
    "age = [52,25,50]\n",
    "\n",
    "d = zip(name, age)"
   ]
  },
  {
   "cell_type": "code",
   "execution_count": 27,
   "id": "d692a70f",
   "metadata": {},
   "outputs": [
    {
     "data": {
      "text/plain": [
       "<zip at 0x1dbbc938400>"
      ]
     },
     "execution_count": 27,
     "metadata": {},
     "output_type": "execute_result"
    }
   ],
   "source": [
    "d"
   ]
  },
  {
   "cell_type": "code",
   "execution_count": 25,
   "id": "510993ec",
   "metadata": {},
   "outputs": [],
   "source": []
  },
  {
   "cell_type": "code",
   "execution_count": null,
   "id": "fc68420e",
   "metadata": {},
   "outputs": [],
   "source": []
  }
 ],
 "metadata": {
  "kernelspec": {
   "display_name": "Python 3 (ipykernel)",
   "language": "python",
   "name": "python3"
  },
  "language_info": {
   "codemirror_mode": {
    "name": "ipython",
    "version": 3
   },
   "file_extension": ".py",
   "mimetype": "text/x-python",
   "name": "python",
   "nbconvert_exporter": "python",
   "pygments_lexer": "ipython3",
   "version": "3.11.4"
  }
 },
 "nbformat": 4,
 "nbformat_minor": 5
}
