{
 "cells": [
  {
   "cell_type": "raw",
   "id": "363eef9f",
   "metadata": {},
   "source": [
    "- key\n",
    "- update"
   ]
  },
  {
   "cell_type": "code",
   "execution_count": 1,
   "id": "5407fe46",
   "metadata": {},
   "outputs": [],
   "source": [
    "rohit = {\n",
    "    \"name\": \"rohit\",\n",
    "    \"age\": 26,\n",
    "    \"height\" : 5.10\n",
    "    }"
   ]
  },
  {
   "cell_type": "code",
   "execution_count": 2,
   "id": "fc976d92",
   "metadata": {},
   "outputs": [],
   "source": [
    "# key"
   ]
  },
  {
   "cell_type": "code",
   "execution_count": 3,
   "id": "e9e370e1",
   "metadata": {},
   "outputs": [],
   "source": [
    "rohit[\"language\"] = \"english\""
   ]
  },
  {
   "cell_type": "code",
   "execution_count": 4,
   "id": "9aad5dc8",
   "metadata": {},
   "outputs": [
    {
     "data": {
      "text/plain": [
       "{'name': 'rohit', 'age': 26, 'height': 5.1, 'language': 'english'}"
      ]
     },
     "execution_count": 4,
     "metadata": {},
     "output_type": "execute_result"
    }
   ],
   "source": [
    "rohit"
   ]
  },
  {
   "cell_type": "code",
   "execution_count": 5,
   "id": "e9b26190",
   "metadata": {},
   "outputs": [
    {
     "data": {
      "text/plain": [
       "'english'"
      ]
     },
     "execution_count": 5,
     "metadata": {},
     "output_type": "execute_result"
    }
   ],
   "source": [
    "rohit.get(\"language\", \"not knownXX\")"
   ]
  },
  {
   "cell_type": "code",
   "execution_count": 6,
   "id": "e48f8864",
   "metadata": {},
   "outputs": [],
   "source": [
    "# update"
   ]
  },
  {
   "cell_type": "code",
   "execution_count": 7,
   "id": "dafac77b",
   "metadata": {},
   "outputs": [],
   "source": [
    "new = {\n",
    "    \"a\": 1,\n",
    "    \"b\":2\n",
    "}"
   ]
  },
  {
   "cell_type": "code",
   "execution_count": 8,
   "id": "786d0845",
   "metadata": {},
   "outputs": [],
   "source": [
    "rohit.update(new)"
   ]
  },
  {
   "cell_type": "code",
   "execution_count": 9,
   "id": "b0235a19",
   "metadata": {},
   "outputs": [
    {
     "data": {
      "text/plain": [
       "{'name': 'rohit',\n",
       " 'age': 26,\n",
       " 'height': 5.1,\n",
       " 'language': 'english',\n",
       " 'a': 1,\n",
       " 'b': 2}"
      ]
     },
     "execution_count": 9,
     "metadata": {},
     "output_type": "execute_result"
    }
   ],
   "source": [
    "rohit"
   ]
  },
  {
   "cell_type": "code",
   "execution_count": 10,
   "id": "6228f064",
   "metadata": {},
   "outputs": [
    {
     "data": {
      "text/plain": [
       "{'a': 1, 'b': 2}"
      ]
     },
     "execution_count": 10,
     "metadata": {},
     "output_type": "execute_result"
    }
   ],
   "source": [
    "new"
   ]
  },
  {
   "cell_type": "code",
   "execution_count": null,
   "id": "111373ee",
   "metadata": {},
   "outputs": [],
   "source": []
  }
 ],
 "metadata": {
  "kernelspec": {
   "display_name": "Python 3 (ipykernel)",
   "language": "python",
   "name": "python3"
  },
  "language_info": {
   "codemirror_mode": {
    "name": "ipython",
    "version": 3
   },
   "file_extension": ".py",
   "mimetype": "text/x-python",
   "name": "python",
   "nbconvert_exporter": "python",
   "pygments_lexer": "ipython3",
   "version": "3.11.4"
  }
 },
 "nbformat": 4,
 "nbformat_minor": 5
}
