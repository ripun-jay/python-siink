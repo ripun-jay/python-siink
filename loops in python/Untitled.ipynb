{
 "cells": [
  {
   "cell_type": "raw",
   "id": "3631e500",
   "metadata": {},
   "source": [
    "# Ques> \n",
    "\n",
    "\n",
    "Write a function to print the pattern shown in the sample using n given as a parameter, where n defines the number of rows.\n",
    "\n",
    "Note: There isn't any space between consecutive stars.\n",
    "\n",
    "Input Format:\n",
    "\n",
    "The only argument to the function is a number n.\n",
    "Output Format:\n",
    "\n",
    "Triangle Star Pattern in string format for each testcase.\n",
    "Sample Input:\n",
    "\n",
    "5\n",
    "Sample Output:\n",
    "\n",
    "    *\n",
    "   ***\n",
    "  *****\n",
    " *******\n",
    "*********"
   ]
  },
  {
   "cell_type": "code",
   "execution_count": 18,
   "id": "fbdbc879",
   "metadata": {},
   "outputs": [],
   "source": [
    "def star_pattern(n):\n",
    "    for i in range(1, n+1):\n",
    "\n",
    "        print((n-i)*\" \" + ((2*i)-1)*\"*\")"
   ]
  },
  {
   "cell_type": "code",
   "execution_count": 19,
   "id": "3250b0c0",
   "metadata": {},
   "outputs": [
    {
     "name": "stdout",
     "output_type": "stream",
     "text": [
      "    *\n",
      "   ***\n",
      "  *****\n",
      " *******\n",
      "*********\n"
     ]
    }
   ],
   "source": [
    "star_pattern(5)"
   ]
  },
  {
   "cell_type": "code",
   "execution_count": 8,
   "id": "0adb126d",
   "metadata": {},
   "outputs": [
    {
     "data": {
      "text/plain": [
       "1.0"
      ]
     },
     "execution_count": 8,
     "metadata": {},
     "output_type": "execute_result"
    }
   ],
   "source": [
    "1*2/2\n"
   ]
  },
  {
   "cell_type": "code",
   "execution_count": 15,
   "id": "9fc1891f",
   "metadata": {},
   "outputs": [
    {
     "data": {
      "text/plain": [
       "10"
      ]
     },
     "execution_count": 15,
     "metadata": {},
     "output_type": "execute_result"
    }
   ],
   "source": [
    "4*5//2\n"
   ]
  },
  {
   "cell_type": "raw",
   "id": "90aed3a6",
   "metadata": {},
   "source": [
    "Ques\n",
    "\n",
    "Write a function to return True when the given function is a Prime number else False.\n",
    "\n"
   ]
  },
  {
   "cell_type": "code",
   "execution_count": 20,
   "id": "a824561d",
   "metadata": {},
   "outputs": [],
   "source": [
    "def solve(num):\n",
    "  # write your code here\n",
    "  if num <= 2:\n",
    "   return False\n",
    "\n",
    "  else:\n",
    "   for i in range(2,num-1):\n",
    "      if num%i == 0:\n",
    "          return False\n",
    "          break\n",
    "   else:\n",
    "      return True"
   ]
  },
  {
   "cell_type": "code",
   "execution_count": null,
   "id": "5ac56d17",
   "metadata": {},
   "outputs": [],
   "source": []
  }
 ],
 "metadata": {
  "kernelspec": {
   "display_name": "Python 3 (ipykernel)",
   "language": "python",
   "name": "python3"
  },
  "language_info": {
   "codemirror_mode": {
    "name": "ipython",
    "version": 3
   },
   "file_extension": ".py",
   "mimetype": "text/x-python",
   "name": "python",
   "nbconvert_exporter": "python",
   "pygments_lexer": "ipython3",
   "version": "3.11.4"
  }
 },
 "nbformat": 4,
 "nbformat_minor": 5
}
