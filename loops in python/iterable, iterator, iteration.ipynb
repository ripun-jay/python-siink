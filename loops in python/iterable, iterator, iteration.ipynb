{
 "cells": [
  {
   "cell_type": "code",
   "execution_count": 1,
   "id": "b99a38c4",
   "metadata": {},
   "outputs": [
    {
     "name": "stdout",
     "output_type": "stream",
     "text": [
      "0\n",
      "1\n",
      "2\n",
      "3\n",
      "4\n"
     ]
    }
   ],
   "source": [
    "for i in range(5):\n",
    "    print(i)"
   ]
  },
  {
   "cell_type": "markdown",
   "id": "bac4197c",
   "metadata": {},
   "source": [
    "##### here\n",
    "* i --> iterator bcz first it go 0 then 1 then 2 and so on..\n",
    "\n",
    "* range(50) --> iterable, bcz we are going through it --> list, dict, set, string, tuple, range\n",
    "\n",
    "* performing travasal through iterable called iteration"
   ]
  },
  {
   "cell_type": "code",
   "execution_count": 2,
   "id": "59490f05",
   "metadata": {},
   "outputs": [
    {
     "data": {
      "text/plain": [
       "(12, 2, 3)"
      ]
     },
     "execution_count": 2,
     "metadata": {},
     "output_type": "execute_result"
    }
   ],
   "source": [
    "tpl = 12,2,3\n",
    "tpl"
   ]
  },
  {
   "cell_type": "code",
   "execution_count": 3,
   "id": "04bc5d5e",
   "metadata": {},
   "outputs": [
    {
     "name": "stdout",
     "output_type": "stream",
     "text": [
      "12\n",
      "2\n",
      "3\n"
     ]
    }
   ],
   "source": [
    "for i in tpl:\n",
    "    print(i)"
   ]
  },
  {
   "cell_type": "code",
   "execution_count": 4,
   "id": "f1d19b1b",
   "metadata": {},
   "outputs": [
    {
     "data": {
      "text/plain": [
       "12"
      ]
     },
     "execution_count": 4,
     "metadata": {},
     "output_type": "execute_result"
    }
   ],
   "source": [
    "tpl[0]"
   ]
  },
  {
   "cell_type": "code",
   "execution_count": 5,
   "id": "ebcf0cd8",
   "metadata": {},
   "outputs": [
    {
     "data": {
      "text/plain": [
       "3"
      ]
     },
     "execution_count": 5,
     "metadata": {},
     "output_type": "execute_result"
    }
   ],
   "source": [
    "tpl[-1]"
   ]
  },
  {
   "cell_type": "code",
   "execution_count": 6,
   "id": "1d5f93f4",
   "metadata": {},
   "outputs": [
    {
     "data": {
      "text/plain": [
       "17"
      ]
     },
     "execution_count": 6,
     "metadata": {},
     "output_type": "execute_result"
    }
   ],
   "source": [
    "sum(tpl)"
   ]
  },
  {
   "cell_type": "code",
   "execution_count": null,
   "id": "f7d9c2e6",
   "metadata": {},
   "outputs": [],
   "source": []
  }
 ],
 "metadata": {
  "kernelspec": {
   "display_name": "Python 3 (ipykernel)",
   "language": "python",
   "name": "python3"
  },
  "language_info": {
   "codemirror_mode": {
    "name": "ipython",
    "version": 3
   },
   "file_extension": ".py",
   "mimetype": "text/x-python",
   "name": "python",
   "nbconvert_exporter": "python",
   "pygments_lexer": "ipython3",
   "version": "3.11.4"
  }
 },
 "nbformat": 4,
 "nbformat_minor": 5
}
