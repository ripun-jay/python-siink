{
 "cells": [
  {
   "cell_type": "code",
   "execution_count": 1,
   "id": "41146342",
   "metadata": {},
   "outputs": [],
   "source": [
    "# List COmprehension --> short hand\n",
    "\n"
   ]
  },
  {
   "cell_type": "code",
   "execution_count": 2,
   "id": "0f041672",
   "metadata": {},
   "outputs": [],
   "source": [
    "t2 = []\n",
    "for i in range(1,11):\n",
    "    t2.append(i*2)"
   ]
  },
  {
   "cell_type": "code",
   "execution_count": 3,
   "id": "39b0d96d",
   "metadata": {},
   "outputs": [
    {
     "data": {
      "text/plain": [
       "[2, 4, 6, 8, 10, 12, 14, 16, 18, 20]"
      ]
     },
     "execution_count": 3,
     "metadata": {},
     "output_type": "execute_result"
    }
   ],
   "source": [
    "t2"
   ]
  },
  {
   "cell_type": "code",
   "execution_count": 4,
   "id": "2d816304",
   "metadata": {},
   "outputs": [
    {
     "data": {
      "text/plain": [
       "[2, 4, 6, 8, 10, 12, 14, 16, 18, 20]"
      ]
     },
     "execution_count": 4,
     "metadata": {},
     "output_type": "execute_result"
    }
   ],
   "source": [
    "t_t2 = [i*2  for i in range(1,11)]\n",
    "t_t2"
   ]
  },
  {
   "cell_type": "code",
   "execution_count": 5,
   "id": "5bad59e8",
   "metadata": {},
   "outputs": [],
   "source": [
    "lol = [[] for i in range(10)]"
   ]
  },
  {
   "cell_type": "code",
   "execution_count": 6,
   "id": "10d5ae58",
   "metadata": {},
   "outputs": [
    {
     "data": {
      "text/plain": [
       "[[], [], [], [], [], [], [], [], [], []]"
      ]
     },
     "execution_count": 6,
     "metadata": {},
     "output_type": "execute_result"
    }
   ],
   "source": [
    "lol"
   ]
  },
  {
   "cell_type": "code",
   "execution_count": 7,
   "id": "8cc1c5ad",
   "metadata": {},
   "outputs": [],
   "source": [
    "lol = [[j,i]  for j in [\"a\", \"b\"] for i in range(3)]"
   ]
  },
  {
   "cell_type": "code",
   "execution_count": 8,
   "id": "c698ca17",
   "metadata": {},
   "outputs": [
    {
     "data": {
      "text/plain": [
       "[['a', 0], ['a', 1], ['a', 2], ['b', 0], ['b', 1], ['b', 2]]"
      ]
     },
     "execution_count": 8,
     "metadata": {},
     "output_type": "execute_result"
    }
   ],
   "source": [
    "lol"
   ]
  },
  {
   "cell_type": "code",
   "execution_count": null,
   "id": "b337cee0",
   "metadata": {},
   "outputs": [],
   "source": []
  }
 ],
 "metadata": {
  "kernelspec": {
   "display_name": "Python 3 (ipykernel)",
   "language": "python",
   "name": "python3"
  },
  "language_info": {
   "codemirror_mode": {
    "name": "ipython",
    "version": 3
   },
   "file_extension": ".py",
   "mimetype": "text/x-python",
   "name": "python",
   "nbconvert_exporter": "python",
   "pygments_lexer": "ipython3",
   "version": "3.11.4"
  }
 },
 "nbformat": 4,
 "nbformat_minor": 5
}
