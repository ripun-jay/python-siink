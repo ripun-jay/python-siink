{
 "cells": [
  {
   "cell_type": "code",
   "execution_count": 2,
   "id": "dfac49cf",
   "metadata": {},
   "outputs": [
    {
     "name": "stdout",
     "output_type": "stream",
     "text": [
      "33\n"
     ]
    }
   ],
   "source": [
    "marks = [5,4,3,8,1,0,5,7]\n",
    "summ = 0\n",
    "for num in marks:\n",
    "    summ = summ + num\n",
    "    \n",
    "print(summ)\n",
    "    \n"
   ]
  },
  {
   "cell_type": "markdown",
   "id": "413fd1c3",
   "metadata": {},
   "source": [
    "## product"
   ]
  },
  {
   "cell_type": "code",
   "execution_count": 3,
   "id": "1d3b2e7a",
   "metadata": {},
   "outputs": [
    {
     "data": {
      "text/plain": [
       "[5, 4, 3, 8, 1, 0, 5, 7]"
      ]
     },
     "execution_count": 3,
     "metadata": {},
     "output_type": "execute_result"
    }
   ],
   "source": [
    "marks"
   ]
  },
  {
   "cell_type": "code",
   "execution_count": 4,
   "id": "735d829b",
   "metadata": {},
   "outputs": [
    {
     "name": "stdout",
     "output_type": "stream",
     "text": [
      "0\n"
     ]
    }
   ],
   "source": [
    "product = 1\n",
    "for num in marks:\n",
    "    product *= num #(product = product * num)\n",
    "    \n",
    "print(product)\n",
    "    "
   ]
  },
  {
   "cell_type": "code",
   "execution_count": null,
   "id": "e9fac27b",
   "metadata": {},
   "outputs": [],
   "source": [
    "leetcode\n",
    "hackerrank\n",
    "codewars"
   ]
  }
 ],
 "metadata": {
  "kernelspec": {
   "display_name": "Python 3 (ipykernel)",
   "language": "python",
   "name": "python3"
  },
  "language_info": {
   "codemirror_mode": {
    "name": "ipython",
    "version": 3
   },
   "file_extension": ".py",
   "mimetype": "text/x-python",
   "name": "python",
   "nbconvert_exporter": "python",
   "pygments_lexer": "ipython3",
   "version": "3.11.4"
  }
 },
 "nbformat": 4,
 "nbformat_minor": 5
}
