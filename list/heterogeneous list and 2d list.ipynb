{
 "cells": [
  {
   "cell_type": "code",
   "execution_count": 1,
   "id": "364e98d0",
   "metadata": {},
   "outputs": [],
   "source": [
    "s = [1,2,3, \"a\", \"b\", ]"
   ]
  },
  {
   "cell_type": "code",
   "execution_count": 2,
   "id": "9d220462",
   "metadata": {},
   "outputs": [],
   "source": [
    "s = [1, [1,2,3]]"
   ]
  },
  {
   "cell_type": "code",
   "execution_count": null,
   "id": "9aad7a27",
   "metadata": {},
   "outputs": [],
   "source": []
  },
  {
   "cell_type": "code",
   "execution_count": 3,
   "id": "ad926f74",
   "metadata": {},
   "outputs": [],
   "source": [
    "# 2D list"
   ]
  },
  {
   "cell_type": "code",
   "execution_count": 21,
   "id": "bfa420d1",
   "metadata": {},
   "outputs": [],
   "source": [
    "l = [[\"14\",2,3], \n",
    "    [2,3,4],\n",
    "    [6,4,5]]"
   ]
  },
  {
   "cell_type": "code",
   "execution_count": 22,
   "id": "a6b950ef",
   "metadata": {},
   "outputs": [
    {
     "data": {
      "text/plain": [
       "['14', 2, 3]"
      ]
     },
     "execution_count": 22,
     "metadata": {},
     "output_type": "execute_result"
    }
   ],
   "source": [
    "l[0]"
   ]
  },
  {
   "cell_type": "code",
   "execution_count": 23,
   "id": "25619481",
   "metadata": {},
   "outputs": [
    {
     "data": {
      "text/plain": [
       "['14', 2, 3]"
      ]
     },
     "execution_count": 23,
     "metadata": {},
     "output_type": "execute_result"
    }
   ],
   "source": [
    "l[0]"
   ]
  },
  {
   "cell_type": "code",
   "execution_count": 24,
   "id": "57b14d93",
   "metadata": {},
   "outputs": [
    {
     "data": {
      "text/plain": [
       "3"
      ]
     },
     "execution_count": 24,
     "metadata": {},
     "output_type": "execute_result"
    }
   ],
   "source": [
    "l[0][2]"
   ]
  },
  {
   "cell_type": "code",
   "execution_count": 27,
   "id": "8a0f5fd7",
   "metadata": {},
   "outputs": [
    {
     "data": {
      "text/plain": [
       "'14'"
      ]
     },
     "execution_count": 27,
     "metadata": {},
     "output_type": "execute_result"
    }
   ],
   "source": [
    "l[0][0]"
   ]
  },
  {
   "cell_type": "code",
   "execution_count": 26,
   "id": "7ca108f4",
   "metadata": {},
   "outputs": [],
   "source": [
    "# indexing"
   ]
  },
  {
   "cell_type": "code",
   "execution_count": 29,
   "id": "e629f316",
   "metadata": {},
   "outputs": [
    {
     "data": {
      "text/plain": [
       "['14', 2, 3]"
      ]
     },
     "execution_count": 29,
     "metadata": {},
     "output_type": "execute_result"
    }
   ],
   "source": [
    "l[0]"
   ]
  },
  {
   "cell_type": "code",
   "execution_count": 31,
   "id": "54c5368a",
   "metadata": {},
   "outputs": [
    {
     "data": {
      "text/plain": [
       "'14'"
      ]
     },
     "execution_count": 31,
     "metadata": {},
     "output_type": "execute_result"
    }
   ],
   "source": [
    "l[0][0]"
   ]
  },
  {
   "cell_type": "code",
   "execution_count": 32,
   "id": "2f967623",
   "metadata": {},
   "outputs": [
    {
     "data": {
      "text/plain": [
       "'1'"
      ]
     },
     "execution_count": 32,
     "metadata": {},
     "output_type": "execute_result"
    }
   ],
   "source": [
    "l[0][0][0]  -->  "
   ]
  },
  {
   "cell_type": "code",
   "execution_count": null,
   "id": "8ba826f5",
   "metadata": {},
   "outputs": [],
   "source": []
  }
 ],
 "metadata": {
  "kernelspec": {
   "display_name": "Python 3 (ipykernel)",
   "language": "python",
   "name": "python3"
  },
  "language_info": {
   "codemirror_mode": {
    "name": "ipython",
    "version": 3
   },
   "file_extension": ".py",
   "mimetype": "text/x-python",
   "name": "python",
   "nbconvert_exporter": "python",
   "pygments_lexer": "ipython3",
   "version": "3.11.4"
  }
 },
 "nbformat": 4,
 "nbformat_minor": 5
}
