{
 "cells": [
  {
   "cell_type": "code",
   "execution_count": 1,
   "id": "b353d3c6",
   "metadata": {},
   "outputs": [],
   "source": [
    "list = []"
   ]
  },
  {
   "cell_type": "raw",
   "id": "911a85cd",
   "metadata": {},
   "source": [
    "data structure : - format of organized data- list, dict, tuple,set\n",
    "data type : - type of data prog language support:- int, float, string"
   ]
  },
  {
   "cell_type": "code",
   "execution_count": null,
   "id": "ca1dd535",
   "metadata": {},
   "outputs": [],
   "source": []
  }
 ],
 "metadata": {
  "kernelspec": {
   "display_name": "Python 3 (ipykernel)",
   "language": "python",
   "name": "python3"
  },
  "language_info": {
   "codemirror_mode": {
    "name": "ipython",
    "version": 3
   },
   "file_extension": ".py",
   "mimetype": "text/x-python",
   "name": "python",
   "nbconvert_exporter": "python",
   "pygments_lexer": "ipython3",
   "version": "3.11.4"
  }
 },
 "nbformat": 4,
 "nbformat_minor": 5
}
