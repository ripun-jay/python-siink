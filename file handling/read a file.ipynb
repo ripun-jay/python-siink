{
 "cells": [
  {
   "cell_type": "raw",
   "id": "13ccc19d",
   "metadata": {},
   "source": [
    "# Method of reading a file\n",
    "\n",
    "1. .read()   -->  read all content\n",
    "2. .read(n)  -->  it will read first n char\n",
    "3. .tell()   -->  return the position of pointer\n",
    "4. .seek()   -->  helping reposition the pointer\n",
    "5. .readline()  -->  read data line by line\n",
    "6. .readlines()  -->  return list of all lines present in file "
   ]
  },
  {
   "cell_type": "code",
   "execution_count": 16,
   "id": "bf370a94",
   "metadata": {},
   "outputs": [
    {
     "name": "stdout",
     "output_type": "stream",
     "text": [
      "how are you,\n",
      "\n",
      "++++++\n",
      "my name is rip\n",
      "\n",
      "++++++\n",
      "are you okey\n",
      "++++++\n",
      "\n"
     ]
    }
   ],
   "source": [
    "with open(\"intro.txt\", \"r+\") as f:\n",
    "    cont = f.readline()\n",
    "    cont2 = f.readline()\n",
    "    cont3 = f.readline()\n",
    "    cont4 = f.readline()\n",
    "    print(cont, cont2 ,cont3, cont4, sep= \"\\n++++++\\n\")"
   ]
  },
  {
   "cell_type": "code",
   "execution_count": 2,
   "id": "e1cf0088",
   "metadata": {},
   "outputs": [
    {
     "data": {
      "text/plain": [
       "True"
      ]
     },
     "execution_count": 2,
     "metadata": {},
     "output_type": "execute_result"
    }
   ],
   "source": [
    "f.closed"
   ]
  },
  {
   "cell_type": "code",
   "execution_count": 6,
   "id": "3144a12a",
   "metadata": {},
   "outputs": [
    {
     "data": {
      "text/plain": [
       "'are you,\\nm'"
      ]
     },
     "execution_count": 6,
     "metadata": {},
     "output_type": "execute_result"
    }
   ],
   "source": [
    "c2"
   ]
  },
  {
   "cell_type": "code",
   "execution_count": 7,
   "id": "c988b3e9",
   "metadata": {},
   "outputs": [
    {
     "data": {
      "text/plain": [
       "'how '"
      ]
     },
     "execution_count": 7,
     "metadata": {},
     "output_type": "execute_result"
    }
   ],
   "source": [
    "c1"
   ]
  },
  {
   "cell_type": "code",
   "execution_count": 18,
   "id": "9c631e7e",
   "metadata": {},
   "outputs": [
    {
     "data": {
      "text/plain": [
       "0"
      ]
     },
     "execution_count": 18,
     "metadata": {},
     "output_type": "execute_result"
    }
   ],
   "source": [
    "len(cont4)"
   ]
  },
  {
   "cell_type": "code",
   "execution_count": 19,
   "id": "b3713038",
   "metadata": {},
   "outputs": [
    {
     "name": "stdout",
     "output_type": "stream",
     "text": [
      "['how are you,\\n', 'my name is rip\\n', 'are you okey']\n"
     ]
    }
   ],
   "source": [
    "with open(\"intro.txt\", \"r+\") as f:\n",
    "    cont = f.readlines()\n",
    "    \n",
    "    print(cont, )"
   ]
  },
  {
   "cell_type": "code",
   "execution_count": 20,
   "id": "6752a57d",
   "metadata": {},
   "outputs": [
    {
     "data": {
      "text/plain": [
       "['how are you,\\n', 'my name is rip\\n', 'are you okey']"
      ]
     },
     "execution_count": 20,
     "metadata": {},
     "output_type": "execute_result"
    }
   ],
   "source": [
    "cont"
   ]
  },
  {
   "cell_type": "code",
   "execution_count": 22,
   "id": "415de495",
   "metadata": {},
   "outputs": [
    {
     "name": "stdout",
     "output_type": "stream",
     "text": [
      "how are you,\n",
      "+my name is rip\n",
      "+are you okey+"
     ]
    }
   ],
   "source": [
    "for line in cont:\n",
    "    print(line, end=\"+\")"
   ]
  },
  {
   "cell_type": "code",
   "execution_count": null,
   "id": "1081e23d",
   "metadata": {},
   "outputs": [],
   "source": []
  }
 ],
 "metadata": {
  "kernelspec": {
   "display_name": "Python 3 (ipykernel)",
   "language": "python",
   "name": "python3"
  },
  "language_info": {
   "codemirror_mode": {
    "name": "ipython",
    "version": 3
   },
   "file_extension": ".py",
   "mimetype": "text/x-python",
   "name": "python",
   "nbconvert_exporter": "python",
   "pygments_lexer": "ipython3",
   "version": "3.11.4"
  }
 },
 "nbformat": 4,
 "nbformat_minor": 5
}
