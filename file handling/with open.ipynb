{
 "cells": [
  {
   "cell_type": "code",
   "execution_count": 4,
   "id": "90065b16",
   "metadata": {},
   "outputs": [
    {
     "data": {
      "text/plain": [
       "'helloBelloHellor vsdkljjhjds'"
      ]
     },
     "execution_count": 4,
     "metadata": {},
     "output_type": "execute_result"
    }
   ],
   "source": [
    "with open(\"intro.txt\", \"r+\") as f:\n",
    "    content = f.read()\n",
    "    f.write(\"\"\"Hello how \n",
    "    are you\n",
    "    google call me\"\"\")\n",
    "content    "
   ]
  },
  {
   "cell_type": "code",
   "execution_count": 5,
   "id": "7ad8f63c",
   "metadata": {},
   "outputs": [
    {
     "data": {
      "text/plain": [
       "True"
      ]
     },
     "execution_count": 5,
     "metadata": {},
     "output_type": "execute_result"
    }
   ],
   "source": [
    "f.closed"
   ]
  },
  {
   "cell_type": "code",
   "execution_count": null,
   "id": "b48ab750",
   "metadata": {},
   "outputs": [],
   "source": []
  }
 ],
 "metadata": {
  "kernelspec": {
   "display_name": "Python 3 (ipykernel)",
   "language": "python",
   "name": "python3"
  },
  "language_info": {
   "codemirror_mode": {
    "name": "ipython",
    "version": 3
   },
   "file_extension": ".py",
   "mimetype": "text/x-python",
   "name": "python",
   "nbconvert_exporter": "python",
   "pygments_lexer": "ipython3",
   "version": "3.11.4"
  }
 },
 "nbformat": 4,
 "nbformat_minor": 5
}
