{
 "cells": [
  {
   "cell_type": "markdown",
   "id": "45b22320",
   "metadata": {},
   "source": [
    "# 2 modes of write in file\n",
    "1. write :-  delete old content and overwite new content\n",
    "2. append  :-  append the contend at the end of file content"
   ]
  },
  {
   "cell_type": "code",
   "execution_count": 2,
   "id": "f0167be7",
   "metadata": {},
   "outputs": [],
   "source": [
    "with open(\"intro.txt\", \"r+\") as f:\n",
    "    f.write(\"PPPP\")"
   ]
  },
  {
   "cell_type": "code",
   "execution_count": 4,
   "id": "2ee0f886",
   "metadata": {},
   "outputs": [
    {
     "data": {
      "text/plain": [
       "True"
      ]
     },
     "execution_count": 4,
     "metadata": {},
     "output_type": "execute_result"
    }
   ],
   "source": [
    "f.closed"
   ]
  },
  {
   "cell_type": "code",
   "execution_count": 5,
   "id": "2b821bca",
   "metadata": {},
   "outputs": [],
   "source": [
    "with open(\"intro.txt\", \"a\") as f:\n",
    "    f.write(\"\\nhow are you\")"
   ]
  },
  {
   "cell_type": "code",
   "execution_count": 7,
   "id": "da95deda",
   "metadata": {},
   "outputs": [],
   "source": [
    "with open(\"intro.txt\", \"w\") as f:\n",
    "    f.write(\"\\nhow are you\")\n",
    "    f.write(\"kkkkkkk\")"
   ]
  },
  {
   "cell_type": "code",
   "execution_count": null,
   "id": "0e7502e0",
   "metadata": {},
   "outputs": [],
   "source": []
  }
 ],
 "metadata": {
  "kernelspec": {
   "display_name": "Python 3 (ipykernel)",
   "language": "python",
   "name": "python3"
  },
  "language_info": {
   "codemirror_mode": {
    "name": "ipython",
    "version": 3
   },
   "file_extension": ".py",
   "mimetype": "text/x-python",
   "name": "python",
   "nbconvert_exporter": "python",
   "pygments_lexer": "ipython3",
   "version": "3.11.4"
  }
 },
 "nbformat": 4,
 "nbformat_minor": 5
}
