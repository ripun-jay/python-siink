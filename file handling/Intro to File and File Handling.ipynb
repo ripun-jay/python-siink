{
 "cells": [
  {
   "cell_type": "markdown",
   "id": "5ee680ee",
   "metadata": {},
   "source": [
    "# Why need file\n",
    "\n",
    "> means: working with file like delete,update,read,write data in file\n",
    "    \n",
    "> files:- it store the data paramanentlly, but varible defined in python program store data tempararlly\n",
    "    \n",
    "> so in this case we need a data in such a formet, which store data paramanentlly: --> file"
   ]
  },
  {
   "cell_type": "markdown",
   "id": "47213775",
   "metadata": {},
   "source": [
    "# File Handling\n",
    "\n",
    "> a file is container is computer system which store data paramanetlly\n",
    "\n",
    "## Type Of File\n",
    "\n",
    "1. Text File   -->  file that readable by human like text file, excel file, csv file etc\n",
    "2. Binarary File  --> file that does not readable by human called binarary file like Image, Video, Sound"
   ]
  },
  {
   "cell_type": "markdown",
   "id": "2f81378c",
   "metadata": {},
   "source": [
    "# what can we do with a file:-\n",
    "\n",
    "> to do anything with first open the file\n",
    "\n",
    "## Opening a file\n",
    "\n",
    "1. open(\"file_path\") keyword use to open a file,\n",
    "2. after doing all the operation on file, we should remember to close the file otherwise RAM/MEMORY will in use.\n",
    "3. close(\"file_path\") keyword used to close the file"
   ]
  },
  {
   "cell_type": "markdown",
   "id": "4a973246",
   "metadata": {},
   "source": [
    "# Kind Of Operation On Files:\n",
    "1. read\n",
    "2. write\n",
    "3. append"
   ]
  },
  {
   "cell_type": "code",
   "execution_count": null,
   "id": "8f181370",
   "metadata": {},
   "outputs": [],
   "source": [
    "a = 5"
   ]
  },
  {
   "cell_type": "code",
   "execution_count": 1,
   "id": "bf13209f",
   "metadata": {},
   "outputs": [
    {
     "ename": "NameError",
     "evalue": "name 'a' is not defined",
     "output_type": "error",
     "traceback": [
      "\u001b[1;31m---------------------------------------------------------------------------\u001b[0m",
      "\u001b[1;31mNameError\u001b[0m                                 Traceback (most recent call last)",
      "Cell \u001b[1;32mIn[1], line 1\u001b[0m\n\u001b[1;32m----> 1\u001b[0m \u001b[43ma\u001b[49m\n",
      "\u001b[1;31mNameError\u001b[0m: name 'a' is not defined"
     ]
    }
   ],
   "source": [
    "a"
   ]
  },
  {
   "cell_type": "code",
   "execution_count": null,
   "id": "c87024d4",
   "metadata": {},
   "outputs": [],
   "source": [
    "order = 0"
   ]
  }
 ],
 "metadata": {
  "kernelspec": {
   "display_name": "Python 3 (ipykernel)",
   "language": "python",
   "name": "python3"
  },
  "language_info": {
   "codemirror_mode": {
    "name": "ipython",
    "version": 3
   },
   "file_extension": ".py",
   "mimetype": "text/x-python",
   "name": "python",
   "nbconvert_exporter": "python",
   "pygments_lexer": "ipython3",
   "version": "3.11.4"
  }
 },
 "nbformat": 4,
 "nbformat_minor": 5
}
