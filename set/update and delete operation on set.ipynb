{
 "cells": [
  {
   "cell_type": "code",
   "execution_count": 1,
   "id": "a15663a5",
   "metadata": {},
   "outputs": [],
   "source": [
    "s = {\"A\", \"c\",1,5,\"d\"}\n"
   ]
  },
  {
   "cell_type": "code",
   "execution_count": 2,
   "id": "783974a3",
   "metadata": {},
   "outputs": [],
   "source": [
    "# add\n",
    "# update\n"
   ]
  },
  {
   "cell_type": "code",
   "execution_count": 3,
   "id": "d996fd83",
   "metadata": {},
   "outputs": [],
   "source": [
    "s.add(\"rip\")"
   ]
  },
  {
   "cell_type": "code",
   "execution_count": 4,
   "id": "44676875",
   "metadata": {},
   "outputs": [
    {
     "data": {
      "text/plain": [
       "{1, 5, 'A', 'c', 'd', 'rip'}"
      ]
     },
     "execution_count": 4,
     "metadata": {},
     "output_type": "execute_result"
    }
   ],
   "source": [
    "s"
   ]
  },
  {
   "cell_type": "code",
   "execution_count": 5,
   "id": "85b04a57",
   "metadata": {},
   "outputs": [],
   "source": [
    "s.add(1)"
   ]
  },
  {
   "cell_type": "code",
   "execution_count": 6,
   "id": "f119033d",
   "metadata": {},
   "outputs": [
    {
     "data": {
      "text/plain": [
       "{1, 5, 'A', 'c', 'd', 'rip'}"
      ]
     },
     "execution_count": 6,
     "metadata": {},
     "output_type": "execute_result"
    }
   ],
   "source": [
    "s"
   ]
  },
  {
   "cell_type": "code",
   "execution_count": 7,
   "id": "8be44837",
   "metadata": {},
   "outputs": [],
   "source": [
    "#updat"
   ]
  },
  {
   "cell_type": "code",
   "execution_count": 8,
   "id": "b8b5ece2",
   "metadata": {},
   "outputs": [],
   "source": [
    "s.update(\"rip\")"
   ]
  },
  {
   "cell_type": "code",
   "execution_count": 9,
   "id": "f8d0348c",
   "metadata": {},
   "outputs": [
    {
     "data": {
      "text/plain": [
       "{1, 5, 'A', 'c', 'd', 'i', 'p', 'r', 'rip'}"
      ]
     },
     "execution_count": 9,
     "metadata": {},
     "output_type": "execute_result"
    }
   ],
   "source": [
    "s"
   ]
  },
  {
   "cell_type": "code",
   "execution_count": 10,
   "id": "45e6305c",
   "metadata": {},
   "outputs": [],
   "source": [
    "s.update([8,88,888])"
   ]
  },
  {
   "cell_type": "code",
   "execution_count": 11,
   "id": "f6465c49",
   "metadata": {},
   "outputs": [
    {
     "data": {
      "text/plain": [
       "{1, 5, 8, 88, 888, 'A', 'c', 'd', 'i', 'p', 'r', 'rip'}"
      ]
     },
     "execution_count": 11,
     "metadata": {},
     "output_type": "execute_result"
    }
   ],
   "source": [
    "s"
   ]
  },
  {
   "cell_type": "code",
   "execution_count": 12,
   "id": "586d5bde",
   "metadata": {},
   "outputs": [
    {
     "ename": "NameError",
     "evalue": "name 'pop' is not defined",
     "output_type": "error",
     "traceback": [
      "\u001b[1;31m---------------------------------------------------------------------------\u001b[0m",
      "\u001b[1;31mNameError\u001b[0m                                 Traceback (most recent call last)",
      "Cell \u001b[1;32mIn[12], line 2\u001b[0m\n\u001b[0;32m      1\u001b[0m \u001b[38;5;66;03m# delete \u001b[39;00m\n\u001b[1;32m----> 2\u001b[0m \u001b[43mpop\u001b[49m\n\u001b[0;32m      3\u001b[0m remove\n",
      "\u001b[1;31mNameError\u001b[0m: name 'pop' is not defined"
     ]
    }
   ],
   "source": [
    "# delete \n",
    "pop\n",
    "remove"
   ]
  },
  {
   "cell_type": "code",
   "execution_count": 13,
   "id": "1ff6fc64",
   "metadata": {},
   "outputs": [
    {
     "data": {
      "text/plain": [
       "1"
      ]
     },
     "execution_count": 13,
     "metadata": {},
     "output_type": "execute_result"
    }
   ],
   "source": [
    "s.pop()"
   ]
  },
  {
   "cell_type": "code",
   "execution_count": 14,
   "id": "6fa26233",
   "metadata": {},
   "outputs": [],
   "source": [
    "s.remove(888)"
   ]
  },
  {
   "cell_type": "code",
   "execution_count": 15,
   "id": "2e8e6309",
   "metadata": {},
   "outputs": [
    {
     "data": {
      "text/plain": [
       "{5, 8, 88, 'A', 'c', 'd', 'i', 'p', 'r', 'rip'}"
      ]
     },
     "execution_count": 15,
     "metadata": {},
     "output_type": "execute_result"
    }
   ],
   "source": [
    "s"
   ]
  },
  {
   "cell_type": "code",
   "execution_count": null,
   "id": "fee45a88",
   "metadata": {},
   "outputs": [],
   "source": []
  }
 ],
 "metadata": {
  "kernelspec": {
   "display_name": "Python 3 (ipykernel)",
   "language": "python",
   "name": "python3"
  },
  "language_info": {
   "codemirror_mode": {
    "name": "ipython",
    "version": 3
   },
   "file_extension": ".py",
   "mimetype": "text/x-python",
   "name": "python",
   "nbconvert_exporter": "python",
   "pygments_lexer": "ipython3",
   "version": "3.11.4"
  }
 },
 "nbformat": 4,
 "nbformat_minor": 5
}
