{
 "cells": [
  {
   "cell_type": "raw",
   "id": "3be836ed",
   "metadata": {},
   "source": [
    "--> when class derive every attribute and methods of other class\n",
    "--> it get access to every method and attribute of parant class\n",
    "--> it help reuseability of code\n",
    "    1. managable\n",
    "    2. organized\n",
    "    3. optimal\n",
    "    4. elegent\n",
    "    5. reuseable\n"
   ]
  },
  {
   "cell_type": "code",
   "execution_count": null,
   "id": "48184cf9",
   "metadata": {},
   "outputs": [],
   "source": []
  }
 ],
 "metadata": {
  "kernelspec": {
   "display_name": "Python 3 (ipykernel)",
   "language": "python",
   "name": "python3"
  },
  "language_info": {
   "codemirror_mode": {
    "name": "ipython",
    "version": 3
   },
   "file_extension": ".py",
   "mimetype": "text/x-python",
   "name": "python",
   "nbconvert_exporter": "python",
   "pygments_lexer": "ipython3",
   "version": "3.11.4"
  }
 },
 "nbformat": 4,
 "nbformat_minor": 5
}
