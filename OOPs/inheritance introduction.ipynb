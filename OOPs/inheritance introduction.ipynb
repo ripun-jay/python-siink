{
 "cells": [
  {
   "cell_type": "raw",
   "id": "428de014",
   "metadata": {},
   "source": [
    "--> when class derive every attribute and methods of other class\n",
    "--> it get access to every method and attribute of parant class\n",
    "--> it help reuseability of code\n",
    "    1. managable\n",
    "    2. organized\n",
    "    3. optimal\n",
    "    4. elegent\n",
    "    5. reuseable\n"
   ]
  },
  {
   "cell_type": "code",
   "execution_count": 6,
   "id": "92b11574",
   "metadata": {},
   "outputs": [],
   "source": [
    "class Human:\n",
    "    \n",
    "    population = 0\n",
    "    \n",
    "    def __init__(self, name, age, alive = True):\n",
    "        self.name = name\n",
    "        self.age = age\n",
    "        self.alive = alive\n",
    "        if self.alive == True:\n",
    "            Human.population += 1\n",
    "            \n",
    "    def greet(self):\n",
    "        print(f\"Hello, my name is {self.name}\")\n",
    "        \n",
    "    def dead(self):\n",
    "        if self.alive == False:\n",
    "            print(f\"{self.name} is alread dead\")\n",
    "            \n",
    "        else:\n",
    "            self.alive = False\n",
    "            Human.population -= 1\n",
    "            "
   ]
  },
  {
   "cell_type": "code",
   "execution_count": 7,
   "id": "81e0e8e5",
   "metadata": {},
   "outputs": [],
   "source": [
    "rohit = Human(\"rohit\", 26, True)"
   ]
  },
  {
   "cell_type": "code",
   "execution_count": 8,
   "id": "0f9ea5f6",
   "metadata": {},
   "outputs": [
    {
     "name": "stdout",
     "output_type": "stream",
     "text": [
      "Hello, my name is rohit\n"
     ]
    }
   ],
   "source": [
    "rohit.greet()"
   ]
  },
  {
   "cell_type": "code",
   "execution_count": 9,
   "id": "053b7720",
   "metadata": {},
   "outputs": [
    {
     "data": {
      "text/plain": [
       "1"
      ]
     },
     "execution_count": 9,
     "metadata": {},
     "output_type": "execute_result"
    }
   ],
   "source": [
    "Human.population"
   ]
  },
  {
   "cell_type": "code",
   "execution_count": 10,
   "id": "39e8e2c5",
   "metadata": {},
   "outputs": [],
   "source": [
    "rohit.dead()"
   ]
  },
  {
   "cell_type": "code",
   "execution_count": 11,
   "id": "9458a2bd",
   "metadata": {},
   "outputs": [
    {
     "data": {
      "text/plain": [
       "0"
      ]
     },
     "execution_count": 11,
     "metadata": {},
     "output_type": "execute_result"
    }
   ],
   "source": [
    "Human.population"
   ]
  },
  {
   "cell_type": "code",
   "execution_count": 12,
   "id": "f57e04c7",
   "metadata": {},
   "outputs": [
    {
     "data": {
      "text/plain": [
       "'rohit'"
      ]
     },
     "execution_count": 12,
     "metadata": {},
     "output_type": "execute_result"
    }
   ],
   "source": [
    "rohit.name"
   ]
  },
  {
   "cell_type": "code",
   "execution_count": 13,
   "id": "8c316ac2",
   "metadata": {},
   "outputs": [
    {
     "data": {
      "text/plain": [
       "False"
      ]
     },
     "execution_count": 13,
     "metadata": {},
     "output_type": "execute_result"
    }
   ],
   "source": [
    "rohit.alive"
   ]
  },
  {
   "cell_type": "code",
   "execution_count": 14,
   "id": "384f12a4",
   "metadata": {},
   "outputs": [
    {
     "name": "stdout",
     "output_type": "stream",
     "text": [
      "rohit is alread dead\n"
     ]
    }
   ],
   "source": [
    "rohit.dead()"
   ]
  },
  {
   "cell_type": "code",
   "execution_count": 15,
   "id": "013ec699",
   "metadata": {},
   "outputs": [],
   "source": [
    "neha = Human(\"neha\", 26)"
   ]
  },
  {
   "cell_type": "code",
   "execution_count": 16,
   "id": "00888419",
   "metadata": {},
   "outputs": [
    {
     "data": {
      "text/plain": [
       "True"
      ]
     },
     "execution_count": 16,
     "metadata": {},
     "output_type": "execute_result"
    }
   ],
   "source": [
    "neha.alive"
   ]
  },
  {
   "cell_type": "code",
   "execution_count": 17,
   "id": "d3697e49",
   "metadata": {},
   "outputs": [
    {
     "data": {
      "text/plain": [
       "1"
      ]
     },
     "execution_count": 17,
     "metadata": {},
     "output_type": "execute_result"
    }
   ],
   "source": [
    "Human.population"
   ]
  },
  {
   "cell_type": "code",
   "execution_count": 18,
   "id": "50d1cd1b",
   "metadata": {},
   "outputs": [],
   "source": [
    "sarad = Human(\"sarad\", 99, False)"
   ]
  },
  {
   "cell_type": "code",
   "execution_count": 19,
   "id": "f9184c74",
   "metadata": {},
   "outputs": [
    {
     "data": {
      "text/plain": [
       "1"
      ]
     },
     "execution_count": 19,
     "metadata": {},
     "output_type": "execute_result"
    }
   ],
   "source": [
    "Human.population"
   ]
  },
  {
   "cell_type": "code",
   "execution_count": 20,
   "id": "67462285",
   "metadata": {},
   "outputs": [],
   "source": [
    "class Employee(Human):\n",
    "    \n",
    "    def __init__(self, salary, domain):\n",
    "        self.sa\n",
    "    \n",
    "    def it_salary(self):\n",
    "        print(f\"{self.name} salary is 2000\")\n",
    "        \n",
    "    def domain(self):\n",
    "        print(\"he is good proga=rammer\")\n",
    "    \n"
   ]
  },
  {
   "cell_type": "code",
   "execution_count": 21,
   "id": "ae6b9371",
   "metadata": {},
   "outputs": [],
   "source": [
    "rohan = Employee(\"rohan\", 26)\n",
    "hira = Employee(\"hira\", 50)"
   ]
  },
  {
   "cell_type": "code",
   "execution_count": 22,
   "id": "bdfd5d4f",
   "metadata": {},
   "outputs": [
    {
     "data": {
      "text/plain": [
       "'rohan'"
      ]
     },
     "execution_count": 22,
     "metadata": {},
     "output_type": "execute_result"
    }
   ],
   "source": [
    "rohan.name"
   ]
  },
  {
   "cell_type": "code",
   "execution_count": 25,
   "id": "1656d32d",
   "metadata": {},
   "outputs": [
    {
     "name": "stdout",
     "output_type": "stream",
     "text": [
      "rohan salary is 2000\n"
     ]
    }
   ],
   "source": [
    "rohan.it_salary()"
   ]
  },
  {
   "cell_type": "code",
   "execution_count": 27,
   "id": "84a84203",
   "metadata": {},
   "outputs": [
    {
     "name": "stdout",
     "output_type": "stream",
     "text": [
      "hira salary is 2000\n"
     ]
    }
   ],
   "source": [
    "hira.it_salary()"
   ]
  },
  {
   "cell_type": "code",
   "execution_count": 28,
   "id": "18db1ac1",
   "metadata": {},
   "outputs": [
    {
     "data": {
      "text/plain": [
       "3"
      ]
     },
     "execution_count": 28,
     "metadata": {},
     "output_type": "execute_result"
    }
   ],
   "source": [
    "Human.population"
   ]
  },
  {
   "cell_type": "code",
   "execution_count": null,
   "id": "aff15f4b",
   "metadata": {},
   "outputs": [],
   "source": []
  }
 ],
 "metadata": {
  "kernelspec": {
   "display_name": "Python 3 (ipykernel)",
   "language": "python",
   "name": "python3"
  },
  "language_info": {
   "codemirror_mode": {
    "name": "ipython",
    "version": 3
   },
   "file_extension": ".py",
   "mimetype": "text/x-python",
   "name": "python",
   "nbconvert_exporter": "python",
   "pygments_lexer": "ipython3",
   "version": "3.11.4"
  }
 },
 "nbformat": 4,
 "nbformat_minor": 5
}
