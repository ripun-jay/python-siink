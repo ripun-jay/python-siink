{
 "cells": [
  {
   "cell_type": "markdown",
   "id": "e189fd67",
   "metadata": {},
   "source": [
    "# Class Variable\n",
    "* common attribute of every object created using class"
   ]
  },
  {
   "cell_type": "code",
   "execution_count": 1,
   "id": "90118290",
   "metadata": {},
   "outputs": [],
   "source": [
    "class Human:\n",
    "    \n",
    "    # class varible\n",
    "    population = 0\n",
    "    \n",
    "    def __init__(self, name, age):\n",
    "        self.name = name\n",
    "        self.age = age\n",
    "        Human.population += 1\n",
    "        \n",
    "    def greet(self):\n",
    "        print(\"Hello\")"
   ]
  },
  {
   "cell_type": "code",
   "execution_count": 2,
   "id": "bf2a0516",
   "metadata": {},
   "outputs": [],
   "source": [
    "rip = Human(\"ripu\", 26)\n"
   ]
  },
  {
   "cell_type": "code",
   "execution_count": 4,
   "id": "8a3a3ca0",
   "metadata": {},
   "outputs": [
    {
     "data": {
      "text/plain": [
       "1"
      ]
     },
     "execution_count": 4,
     "metadata": {},
     "output_type": "execute_result"
    }
   ],
   "source": [
    "Human.population"
   ]
  },
  {
   "cell_type": "code",
   "execution_count": 5,
   "id": "c7ecc032",
   "metadata": {},
   "outputs": [],
   "source": [
    "rohan = Human(\"rohan\", 20)"
   ]
  },
  {
   "cell_type": "code",
   "execution_count": 6,
   "id": "ab71fc75",
   "metadata": {},
   "outputs": [
    {
     "data": {
      "text/plain": [
       "2"
      ]
     },
     "execution_count": 6,
     "metadata": {},
     "output_type": "execute_result"
    }
   ],
   "source": [
    "Human.population"
   ]
  },
  {
   "cell_type": "code",
   "execution_count": 8,
   "id": "3c4a223e",
   "metadata": {},
   "outputs": [],
   "source": [
    "class Employees:\n",
    "    \n",
    "    # class varible\n",
    "    no_of_employees = 0\n",
    "    \n",
    "    def __init__(self, name, age, salary, left = False):\n",
    "        self.name = name\n",
    "        self.age = age\n",
    "        self.left = left\n",
    "        if self.left == False:\n",
    "            Employees.no_of_employees += 1\n",
    "        \n",
    "    def about_salary(self):\n",
    "        print(f\"His Salary is {self.salary}\")\n",
    "        \n",
    "    def left_company(self):\n",
    "        self.left = True\n",
    "        if self.left == True:\n",
    "            Employees.no_of_employees -= 1\n",
    "        "
   ]
  },
  {
   "cell_type": "code",
   "execution_count": 9,
   "id": "b7f8a23a",
   "metadata": {},
   "outputs": [],
   "source": [
    "rohit = Employees(\"rohit\", 20, 10)"
   ]
  },
  {
   "cell_type": "code",
   "execution_count": 10,
   "id": "f61778f5",
   "metadata": {},
   "outputs": [
    {
     "data": {
      "text/plain": [
       "1"
      ]
     },
     "execution_count": 10,
     "metadata": {},
     "output_type": "execute_result"
    }
   ],
   "source": [
    "Employees.no_of_employees"
   ]
  },
  {
   "cell_type": "code",
   "execution_count": 11,
   "id": "01c8201e",
   "metadata": {},
   "outputs": [],
   "source": [
    "neha = Employees(\"neha\", 20, 2)"
   ]
  },
  {
   "cell_type": "code",
   "execution_count": 12,
   "id": "0cd90877",
   "metadata": {},
   "outputs": [
    {
     "data": {
      "text/plain": [
       "2"
      ]
     },
     "execution_count": 12,
     "metadata": {},
     "output_type": "execute_result"
    }
   ],
   "source": [
    "Employees.no_of_employees"
   ]
  },
  {
   "cell_type": "code",
   "execution_count": 13,
   "id": "18870261",
   "metadata": {},
   "outputs": [
    {
     "data": {
      "text/plain": [
       "2"
      ]
     },
     "execution_count": 13,
     "metadata": {},
     "output_type": "execute_result"
    }
   ],
   "source": [
    "rohit.no_of_employees"
   ]
  },
  {
   "cell_type": "code",
   "execution_count": 14,
   "id": "70394141",
   "metadata": {},
   "outputs": [
    {
     "data": {
      "text/plain": [
       "'rohit'"
      ]
     },
     "execution_count": 14,
     "metadata": {},
     "output_type": "execute_result"
    }
   ],
   "source": [
    "rohit.name"
   ]
  },
  {
   "cell_type": "code",
   "execution_count": 15,
   "id": "c8a61f65",
   "metadata": {},
   "outputs": [
    {
     "data": {
      "text/plain": [
       "'neha'"
      ]
     },
     "execution_count": 15,
     "metadata": {},
     "output_type": "execute_result"
    }
   ],
   "source": [
    "neha.name"
   ]
  },
  {
   "cell_type": "code",
   "execution_count": null,
   "id": "1b2f1db3",
   "metadata": {},
   "outputs": [],
   "source": []
  }
 ],
 "metadata": {
  "kernelspec": {
   "display_name": "Python 3 (ipykernel)",
   "language": "python",
   "name": "python3"
  },
  "language_info": {
   "codemirror_mode": {
    "name": "ipython",
    "version": 3
   },
   "file_extension": ".py",
   "mimetype": "text/x-python",
   "name": "python",
   "nbconvert_exporter": "python",
   "pygments_lexer": "ipython3",
   "version": "3.11.4"
  }
 },
 "nbformat": 4,
 "nbformat_minor": 5
}
