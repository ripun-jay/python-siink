{
 "cells": [
  {
   "cell_type": "markdown",
   "id": "bacc3537",
   "metadata": {},
   "source": [
    "#  Class\n",
    "\n",
    "* > blueprint of building object\n",
    "* > every real world entity in python in object build by any class"
   ]
  },
  {
   "cell_type": "markdown",
   "id": "b2695ca2",
   "metadata": {},
   "source": [
    "# Create Class\n",
    "> Gen. convetion First Capital Letter"
   ]
  },
  {
   "cell_type": "markdown",
   "id": "02e1b5f6",
   "metadata": {},
   "source": [
    "1"
   ]
  },
  {
   "cell_type": "code",
   "execution_count": 6,
   "id": "42c84e66",
   "metadata": {},
   "outputs": [
    {
     "name": "stdout",
     "output_type": "stream",
     "text": [
      "<class 'int'>\n"
     ]
    }
   ],
   "source": [
    "print(type(1))"
   ]
  },
  {
   "cell_type": "code",
   "execution_count": 8,
   "id": "d3cb3939",
   "metadata": {},
   "outputs": [
    {
     "name": "stdout",
     "output_type": "stream",
     "text": [
      "<class 'str'>\n"
     ]
    }
   ],
   "source": [
    "print(type(\"rip\"))"
   ]
  },
  {
   "cell_type": "code",
   "execution_count": 9,
   "id": "79d022ef",
   "metadata": {},
   "outputs": [],
   "source": [
    "class animal:\n",
    "    pass"
   ]
  },
  {
   "cell_type": "code",
   "execution_count": 10,
   "id": "1958d532",
   "metadata": {},
   "outputs": [],
   "source": [
    "class Animal:\n",
    "    pass"
   ]
  },
  {
   "cell_type": "markdown",
   "id": "b7de496c",
   "metadata": {},
   "source": [
    "Object - object are built using claas"
   ]
  },
  {
   "cell_type": "code",
   "execution_count": 12,
   "id": "2a2fc8e1",
   "metadata": {},
   "outputs": [],
   "source": [
    "dog = Animal()"
   ]
  },
  {
   "cell_type": "code",
   "execution_count": 13,
   "id": "d5172670",
   "metadata": {},
   "outputs": [
    {
     "data": {
      "text/plain": [
       "__main__.Animal"
      ]
     },
     "execution_count": 13,
     "metadata": {},
     "output_type": "execute_result"
    }
   ],
   "source": [
    "type(dog)"
   ]
  },
  {
   "cell_type": "code",
   "execution_count": 14,
   "id": "c2c07aeb",
   "metadata": {},
   "outputs": [
    {
     "data": {
      "text/plain": [
       "'__main__'"
      ]
     },
     "execution_count": 14,
     "metadata": {},
     "output_type": "execute_result"
    }
   ],
   "source": [
    "__name__"
   ]
  },
  {
   "cell_type": "code",
   "execution_count": null,
   "id": "eae0c1b1",
   "metadata": {},
   "outputs": [],
   "source": []
  }
 ],
 "metadata": {
  "kernelspec": {
   "display_name": "Python 3 (ipykernel)",
   "language": "python",
   "name": "python3"
  },
  "language_info": {
   "codemirror_mode": {
    "name": "ipython",
    "version": 3
   },
   "file_extension": ".py",
   "mimetype": "text/x-python",
   "name": "python",
   "nbconvert_exporter": "python",
   "pygments_lexer": "ipython3",
   "version": "3.11.4"
  }
 },
 "nbformat": 4,
 "nbformat_minor": 5
}
