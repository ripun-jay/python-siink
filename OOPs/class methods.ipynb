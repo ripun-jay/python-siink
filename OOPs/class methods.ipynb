{
 "cells": [
  {
   "cell_type": "raw",
   "id": "da7f10fe",
   "metadata": {},
   "source": [
    "## Class\n",
    "1. Class Methods\n",
    "2. attributes/ instance variable\n",
    "3. class Variable"
   ]
  },
  {
   "cell_type": "code",
   "execution_count": 14,
   "id": "4a580088",
   "metadata": {},
   "outputs": [],
   "source": [
    "class Animal:\n",
    "    \n",
    "    def __init__(self, hands, eyes, sound, speed):\n",
    "        self.hands = hands\n",
    "        self.eyes = eyes\n",
    "        self.sound = sound\n",
    "        self.speed = speed\n",
    "        print(\"hii\")\n",
    "        \n",
    "    def walk(self):\n",
    "        print(f\"it can run and it's spee is {self.speed}\")\n",
    "        print(\"hi\")\n",
    "        \n",
    "    def sound_(self):\n",
    "        print(f\"it's sound is {self.sound}\")\n",
    "        "
   ]
  },
  {
   "cell_type": "code",
   "execution_count": 15,
   "id": "5d12be22",
   "metadata": {},
   "outputs": [
    {
     "name": "stdout",
     "output_type": "stream",
     "text": [
      "hii\n"
     ]
    }
   ],
   "source": [
    "cat = Animal(2,2,2,2)"
   ]
  },
  {
   "cell_type": "code",
   "execution_count": 17,
   "id": "40e57c21",
   "metadata": {},
   "outputs": [
    {
     "name": "stdout",
     "output_type": "stream",
     "text": [
      "it can run and it's spee is 2\n",
      "hi\n"
     ]
    }
   ],
   "source": [
    "cat.walk()"
   ]
  },
  {
   "cell_type": "code",
   "execution_count": 10,
   "id": "2c4de8d9",
   "metadata": {},
   "outputs": [],
   "source": [
    "dog = Animal(4, 2, \"BHOBHO\", 50)"
   ]
  },
  {
   "cell_type": "code",
   "execution_count": 11,
   "id": "49d2d025",
   "metadata": {},
   "outputs": [
    {
     "data": {
      "text/plain": [
       "50"
      ]
     },
     "execution_count": 11,
     "metadata": {},
     "output_type": "execute_result"
    }
   ],
   "source": [
    "dog.speed"
   ]
  },
  {
   "cell_type": "code",
   "execution_count": 12,
   "id": "3fd1a542",
   "metadata": {},
   "outputs": [
    {
     "name": "stdout",
     "output_type": "stream",
     "text": [
      "it can run and it's spee is 50\n"
     ]
    }
   ],
   "source": [
    "dog.walk()"
   ]
  },
  {
   "cell_type": "code",
   "execution_count": 13,
   "id": "6bea6848",
   "metadata": {},
   "outputs": [
    {
     "name": "stdout",
     "output_type": "stream",
     "text": [
      "it's sound is BHOBHO\n"
     ]
    }
   ],
   "source": [
    "dog.sound_()"
   ]
  },
  {
   "cell_type": "code",
   "execution_count": null,
   "id": "8f768af7",
   "metadata": {},
   "outputs": [],
   "source": []
  }
 ],
 "metadata": {
  "kernelspec": {
   "display_name": "Python 3 (ipykernel)",
   "language": "python",
   "name": "python3"
  },
  "language_info": {
   "codemirror_mode": {
    "name": "ipython",
    "version": 3
   },
   "file_extension": ".py",
   "mimetype": "text/x-python",
   "name": "python",
   "nbconvert_exporter": "python",
   "pygments_lexer": "ipython3",
   "version": "3.11.4"
  }
 },
 "nbformat": 4,
 "nbformat_minor": 5
}
