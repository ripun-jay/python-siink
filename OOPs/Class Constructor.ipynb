{
 "cells": [
  {
   "cell_type": "markdown",
   "id": "95678341",
   "metadata": {},
   "source": [
    "* it is special method used to create and initalize an object of a class"
   ]
  },
  {
   "cell_type": "code",
   "execution_count": null,
   "id": "913f2985",
   "metadata": {},
   "outputs": [],
   "source": [
    "dog = Animal(no. = 1)"
   ]
  },
  {
   "cell_type": "code",
   "execution_count": 5,
   "id": "bf52d1c1",
   "metadata": {},
   "outputs": [],
   "source": [
    "class Animal:\n",
    "    \n",
    "    def __init__(self, hand, eye):\n",
    "        self.hand = hand\n",
    "        self.eye = eye\n",
    "        \n",
    "        "
   ]
  },
  {
   "cell_type": "code",
   "execution_count": 6,
   "id": "8ac199ff",
   "metadata": {},
   "outputs": [],
   "source": [
    "dog = Animal(2,2)"
   ]
  },
  {
   "cell_type": "code",
   "execution_count": 7,
   "id": "f694f829",
   "metadata": {},
   "outputs": [
    {
     "data": {
      "text/plain": [
       "2"
      ]
     },
     "execution_count": 7,
     "metadata": {},
     "output_type": "execute_result"
    }
   ],
   "source": [
    "dog.hand"
   ]
  },
  {
   "cell_type": "code",
   "execution_count": 9,
   "id": "2edeb100",
   "metadata": {},
   "outputs": [
    {
     "data": {
      "text/plain": [
       "2"
      ]
     },
     "execution_count": 9,
     "metadata": {},
     "output_type": "execute_result"
    }
   ],
   "source": [
    "dog.eye"
   ]
  },
  {
   "cell_type": "code",
   "execution_count": 16,
   "id": "4b3ad7e8",
   "metadata": {},
   "outputs": [],
   "source": [
    "# Methods:\n",
    "\n",
    "class Animal:\n",
    "    \n",
    "    def __init__(self, hands, eyes, nose, sound):  # --> attributes/instance variable of class\n",
    "        self.hands= hands\n",
    "        self.eyes = eyes\n",
    "        self.nose = nose\n",
    "        self.sound = sound\n",
    "        \n",
    "    # defining method\n",
    "    def walk(self):\n",
    "        print(\"yes it can walk\")\n",
    "        \n",
    "    def speak(self):\n",
    "        \n",
    "        print(f\"his sound is {self.sound}\")"
   ]
  },
  {
   "cell_type": "code",
   "execution_count": 20,
   "id": "a5bc837b",
   "metadata": {},
   "outputs": [],
   "source": [
    "cat = Animal(4, 2, 2, \"meumeu\")  # instnce of class"
   ]
  },
  {
   "cell_type": "code",
   "execution_count": 21,
   "id": "a2d6be98",
   "metadata": {},
   "outputs": [
    {
     "data": {
      "text/plain": [
       "__main__.Animal"
      ]
     },
     "execution_count": 21,
     "metadata": {},
     "output_type": "execute_result"
    }
   ],
   "source": [
    "type(cat)"
   ]
  },
  {
   "cell_type": "code",
   "execution_count": 22,
   "id": "9e1ef1b4",
   "metadata": {},
   "outputs": [
    {
     "data": {
      "text/plain": [
       "2"
      ]
     },
     "execution_count": 22,
     "metadata": {},
     "output_type": "execute_result"
    }
   ],
   "source": [
    "cat.nose"
   ]
  },
  {
   "cell_type": "code",
   "execution_count": 23,
   "id": "bd74554b",
   "metadata": {},
   "outputs": [
    {
     "name": "stdout",
     "output_type": "stream",
     "text": [
      "his sound is meumeu\n"
     ]
    }
   ],
   "source": [
    "cat.speak()"
   ]
  },
  {
   "cell_type": "code",
   "execution_count": 25,
   "id": "fad085ba",
   "metadata": {},
   "outputs": [
    {
     "name": "stdout",
     "output_type": "stream",
     "text": [
      "yes it can walk\n"
     ]
    }
   ],
   "source": [
    "cat.walk()"
   ]
  },
  {
   "cell_type": "code",
   "execution_count": null,
   "id": "49c919c5",
   "metadata": {},
   "outputs": [],
   "source": []
  }
 ],
 "metadata": {
  "kernelspec": {
   "display_name": "Python 3 (ipykernel)",
   "language": "python",
   "name": "python3"
  },
  "language_info": {
   "codemirror_mode": {
    "name": "ipython",
    "version": 3
   },
   "file_extension": ".py",
   "mimetype": "text/x-python",
   "name": "python",
   "nbconvert_exporter": "python",
   "pygments_lexer": "ipython3",
   "version": "3.11.4"
  }
 },
 "nbformat": 4,
 "nbformat_minor": 5
}
