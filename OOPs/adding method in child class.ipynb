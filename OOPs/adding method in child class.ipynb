{
 "cells": [
  {
   "cell_type": "code",
   "execution_count": 1,
   "id": "86efa34f",
   "metadata": {},
   "outputs": [],
   "source": [
    "class Human:\n",
    "    \n",
    "    population = 0\n",
    "    \n",
    "    def __init__(self, name, age, alive = True):\n",
    "        self.name = name\n",
    "        self.age = age\n",
    "        self.alive = alive\n",
    "        if self.alive == True:\n",
    "            Human.population += 1\n",
    "            \n",
    "    def greet(self):\n",
    "        print(f\"Hello, my name is {self.name}\")\n",
    "        \n",
    "    def dead(self):\n",
    "        if self.alive == False:\n",
    "            print(f\"{self.name} is alread dead\")\n",
    "            \n",
    "        else:\n",
    "            self.alive = False\n",
    "            Human.population -= 1\n",
    "            "
   ]
  },
  {
   "cell_type": "code",
   "execution_count": 2,
   "id": "726a9fb9",
   "metadata": {},
   "outputs": [],
   "source": [
    "class Employee(Human):\n",
    "    \n",
    "    no_of_employee = 0\n",
    "    \n",
    "    def __init__(self, name, age, salary, domain, is_employee = True, alive = True):\n",
    "        self.salary = salary\n",
    "        self.domain = domain\n",
    "        self.is_employee = is_employee\n",
    "        super().__init__( name, age, alive =True)\n",
    "        if is_employee == True:\n",
    "            Employee.no_of_employee += 1\n",
    "            \n",
    "    def profession(self):\n",
    "        print(f\"He is {self.domain}\")\n",
    "        \n",
    "    def greet(self):\n",
    "        print(f\"hello, my salary is {self.salary}\")\n",
    "        super().greet()\n",
    "        "
   ]
  },
  {
   "cell_type": "code",
   "execution_count": 3,
   "id": "749c3c68",
   "metadata": {},
   "outputs": [],
   "source": [
    "neha = Employee(\"neha\",2,20,\"PD\",)"
   ]
  },
  {
   "cell_type": "code",
   "execution_count": 4,
   "id": "7afeb550",
   "metadata": {},
   "outputs": [
    {
     "data": {
      "text/plain": [
       "'neha'"
      ]
     },
     "execution_count": 4,
     "metadata": {},
     "output_type": "execute_result"
    }
   ],
   "source": [
    "neha.name"
   ]
  },
  {
   "cell_type": "code",
   "execution_count": 5,
   "id": "625ce538",
   "metadata": {},
   "outputs": [
    {
     "data": {
      "text/plain": [
       "2"
      ]
     },
     "execution_count": 5,
     "metadata": {},
     "output_type": "execute_result"
    }
   ],
   "source": [
    "neha.age"
   ]
  },
  {
   "cell_type": "code",
   "execution_count": 6,
   "id": "a931ee1b",
   "metadata": {},
   "outputs": [
    {
     "data": {
      "text/plain": [
       "20"
      ]
     },
     "execution_count": 6,
     "metadata": {},
     "output_type": "execute_result"
    }
   ],
   "source": [
    "neha.salary"
   ]
  },
  {
   "cell_type": "code",
   "execution_count": 7,
   "id": "5959614a",
   "metadata": {},
   "outputs": [
    {
     "data": {
      "text/plain": [
       "'PD'"
      ]
     },
     "execution_count": 7,
     "metadata": {},
     "output_type": "execute_result"
    }
   ],
   "source": [
    "neha.domain"
   ]
  },
  {
   "cell_type": "code",
   "execution_count": 8,
   "id": "5fc16b43",
   "metadata": {},
   "outputs": [
    {
     "name": "stdout",
     "output_type": "stream",
     "text": [
      "hello, my salary is 20\n",
      "Hello, my name is neha\n"
     ]
    }
   ],
   "source": [
    "neha.greet()"
   ]
  },
  {
   "cell_type": "code",
   "execution_count": 9,
   "id": "4bf2fab1",
   "metadata": {},
   "outputs": [
    {
     "name": "stdout",
     "output_type": "stream",
     "text": [
      "He is PD\n"
     ]
    }
   ],
   "source": [
    "neha.profession()"
   ]
  },
  {
   "cell_type": "code",
   "execution_count": 10,
   "id": "f6588c61",
   "metadata": {},
   "outputs": [],
   "source": [
    "neha.dead()"
   ]
  },
  {
   "cell_type": "code",
   "execution_count": 11,
   "id": "9d779175",
   "metadata": {},
   "outputs": [
    {
     "data": {
      "text/plain": [
       "0"
      ]
     },
     "execution_count": 11,
     "metadata": {},
     "output_type": "execute_result"
    }
   ],
   "source": [
    "Human.population"
   ]
  },
  {
   "cell_type": "code",
   "execution_count": null,
   "id": "a49ac9f8",
   "metadata": {},
   "outputs": [],
   "source": []
  }
 ],
 "metadata": {
  "kernelspec": {
   "display_name": "Python 3 (ipykernel)",
   "language": "python",
   "name": "python3"
  },
  "language_info": {
   "codemirror_mode": {
    "name": "ipython",
    "version": 3
   },
   "file_extension": ".py",
   "mimetype": "text/x-python",
   "name": "python",
   "nbconvert_exporter": "python",
   "pygments_lexer": "ipython3",
   "version": "3.11.4"
  }
 },
 "nbformat": 4,
 "nbformat_minor": 5
}
