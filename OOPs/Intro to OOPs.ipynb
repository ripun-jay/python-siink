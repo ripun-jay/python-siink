{
 "cells": [
  {
   "cell_type": "markdown",
   "id": "285923da",
   "metadata": {},
   "source": [
    "# Object Orianted Programming\n",
    "\n",
    "> Principle of Programming are based on 6 pillers\n",
    "1. Object   -- >  real world entities\n",
    "2. Class -- > generalization of perticular type of object\n",
    "3. Inharitance -->  One Class Can INherite other class properties\n",
    "4. Polymorphism  --> having many form, method/feaature of a class work differently for differt object\n",
    "5. Abstaction  --> only display essential info, hiding the details\n",
    "6. Encapsulation --> building of data into single unit\n",
    "\n"
   ]
  },
  {
   "cell_type": "code",
   "execution_count": null,
   "id": "65ce887d",
   "metadata": {},
   "outputs": [],
   "source": []
  }
 ],
 "metadata": {
  "kernelspec": {
   "display_name": "Python 3 (ipykernel)",
   "language": "python",
   "name": "python3"
  },
  "language_info": {
   "codemirror_mode": {
    "name": "ipython",
    "version": 3
   },
   "file_extension": ".py",
   "mimetype": "text/x-python",
   "name": "python",
   "nbconvert_exporter": "python",
   "pygments_lexer": "ipython3",
   "version": "3.11.4"
  }
 },
 "nbformat": 4,
 "nbformat_minor": 5
}
