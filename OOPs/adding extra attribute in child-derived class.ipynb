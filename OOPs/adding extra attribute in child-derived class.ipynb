{
 "cells": [
  {
   "cell_type": "code",
   "execution_count": 10,
   "id": "220d4123",
   "metadata": {},
   "outputs": [],
   "source": [
    "class Human:\n",
    "    \n",
    "    population = 0\n",
    "    \n",
    "    def __init__(self, name, age, alive = True):\n",
    "        self.name = name\n",
    "        self.age = age\n",
    "        self.alive = alive\n",
    "        if self.alive == True:\n",
    "            Human.population += 1\n",
    "            \n",
    "    def greet(self):\n",
    "        print(f\"Hello, my name is {self.name}\")\n",
    "        \n",
    "    def dead(self):\n",
    "        if self.alive == False:\n",
    "            print(f\"{self.name} is alread dead\")\n",
    "            \n",
    "        else:\n",
    "            self.alive = False\n",
    "            Human.population -= 1\n",
    "            "
   ]
  },
  {
   "cell_type": "code",
   "execution_count": 11,
   "id": "7e0f7e43",
   "metadata": {},
   "outputs": [],
   "source": [
    "class Employee(Human):\n",
    "    \n",
    "    no_of_employee = 0\n",
    "    \n",
    "    def __init__(self, name, age, salary, domain, is_employee = True, alive = True):\n",
    "        self.salary = salary\n",
    "        self.domain = domain\n",
    "        self.is_employee = is_employee\n",
    "        super().__init__( name, age, alive =True)\n",
    "        if is_employee == True:\n",
    "            Employee.no_of_employee += 1\n",
    "            \n",
    "    def profession(self):\n",
    "        print(f\"He is {self.domain}\")\n",
    "        \n",
    "        "
   ]
  },
  {
   "cell_type": "code",
   "execution_count": 12,
   "id": "b1941531",
   "metadata": {},
   "outputs": [],
   "source": [
    "rohit = Human(\"rohit\", 4)"
   ]
  },
  {
   "cell_type": "code",
   "execution_count": 13,
   "id": "b48407b1",
   "metadata": {},
   "outputs": [
    {
     "data": {
      "text/plain": [
       "1"
      ]
     },
     "execution_count": 13,
     "metadata": {},
     "output_type": "execute_result"
    }
   ],
   "source": [
    "Human.population"
   ]
  },
  {
   "cell_type": "code",
   "execution_count": 14,
   "id": "7aabe04f",
   "metadata": {},
   "outputs": [],
   "source": [
    "neha = Employee(\"neha\", 2, 5, \"SDE\", True, True)"
   ]
  },
  {
   "cell_type": "code",
   "execution_count": 15,
   "id": "4a78a34e",
   "metadata": {},
   "outputs": [
    {
     "data": {
      "text/plain": [
       "2"
      ]
     },
     "execution_count": 15,
     "metadata": {},
     "output_type": "execute_result"
    }
   ],
   "source": [
    "Human.population"
   ]
  },
  {
   "cell_type": "code",
   "execution_count": 16,
   "id": "88a5e2dc",
   "metadata": {},
   "outputs": [
    {
     "data": {
      "text/plain": [
       "1"
      ]
     },
     "execution_count": 16,
     "metadata": {},
     "output_type": "execute_result"
    }
   ],
   "source": [
    "Employee.no_of_employee"
   ]
  },
  {
   "cell_type": "code",
   "execution_count": null,
   "id": "45ac289a",
   "metadata": {},
   "outputs": [],
   "source": []
  }
 ],
 "metadata": {
  "kernelspec": {
   "display_name": "Python 3 (ipykernel)",
   "language": "python",
   "name": "python3"
  },
  "language_info": {
   "codemirror_mode": {
    "name": "ipython",
    "version": 3
   },
   "file_extension": ".py",
   "mimetype": "text/x-python",
   "name": "python",
   "nbconvert_exporter": "python",
   "pygments_lexer": "ipython3",
   "version": "3.11.4"
  }
 },
 "nbformat": 4,
 "nbformat_minor": 5
}
