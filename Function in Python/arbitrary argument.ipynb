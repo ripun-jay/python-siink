{
 "cells": [
  {
   "cell_type": "markdown",
   "id": "3b8a23b1",
   "metadata": {},
   "source": [
    "# -- > when no of parameter are unknown --> we are not sure or it can be anything then in this case we use arbitrary argument"
   ]
  },
  {
   "cell_type": "code",
   "execution_count": 2,
   "id": "1cfa68f3",
   "metadata": {},
   "outputs": [
    {
     "name": "stdout",
     "output_type": "stream",
     "text": [
      "a b c d\n"
     ]
    }
   ],
   "source": [
    "print(\"a\", \"b\", \"c\", \"d\")"
   ]
  },
  {
   "cell_type": "code",
   "execution_count": 6,
   "id": "9ac7dac2",
   "metadata": {},
   "outputs": [],
   "source": [
    "def fn(*name):\n",
    "    st = \"\"\n",
    "    print(type(name))\n",
    "    for i in name:\n",
    "        st+=i\n",
    "    print(st)"
   ]
  },
  {
   "cell_type": "code",
   "execution_count": 7,
   "id": "4bdb709d",
   "metadata": {},
   "outputs": [
    {
     "name": "stdout",
     "output_type": "stream",
     "text": [
      "<class 'tuple'>\n",
      "rahulsingh\n"
     ]
    }
   ],
   "source": [
    "fn(\"rahul\", \"singh\")"
   ]
  },
  {
   "cell_type": "code",
   "execution_count": 5,
   "id": "91323ab5",
   "metadata": {},
   "outputs": [
    {
     "name": "stdout",
     "output_type": "stream",
     "text": [
      "abcr\n"
     ]
    }
   ],
   "source": [
    "fn(\"a\", \"b\", \"c\", \"r\")"
   ]
  },
  {
   "cell_type": "code",
   "execution_count": 8,
   "id": "8462818c",
   "metadata": {},
   "outputs": [],
   "source": [
    "def gx(a, b, c= 5, *args):\n",
    "    print(\"a,b,c are\", a, b,c)\n",
    "    for i in args:\n",
    "        print(i)"
   ]
  },
  {
   "cell_type": "code",
   "execution_count": 10,
   "id": "7916e45a",
   "metadata": {},
   "outputs": [
    {
     "name": "stdout",
     "output_type": "stream",
     "text": [
      "a,b,c are 5 2 6\n"
     ]
    }
   ],
   "source": [
    "gx(5,2,6)"
   ]
  },
  {
   "cell_type": "code",
   "execution_count": 11,
   "id": "5dcca74b",
   "metadata": {},
   "outputs": [
    {
     "name": "stdout",
     "output_type": "stream",
     "text": [
      "a,b,c are 11 1 1\n",
      "1\n",
      "1\n",
      "1\n",
      "1\n",
      "15\n",
      "54\n",
      "5\n",
      "4\n",
      "5\n"
     ]
    }
   ],
   "source": [
    "gx(11,1,1,1,1,1,1,15,54,5,4,5)"
   ]
  },
  {
   "cell_type": "code",
   "execution_count": null,
   "id": "d7d80dff",
   "metadata": {},
   "outputs": [],
   "source": []
  }
 ],
 "metadata": {
  "kernelspec": {
   "display_name": "Python 3 (ipykernel)",
   "language": "python",
   "name": "python3"
  },
  "language_info": {
   "codemirror_mode": {
    "name": "ipython",
    "version": 3
   },
   "file_extension": ".py",
   "mimetype": "text/x-python",
   "name": "python",
   "nbconvert_exporter": "python",
   "pygments_lexer": "ipython3",
   "version": "3.11.4"
  }
 },
 "nbformat": 4,
 "nbformat_minor": 5
}
