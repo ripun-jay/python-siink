{
 "cells": [
  {
   "cell_type": "code",
   "execution_count": 1,
   "id": "06cfa87b",
   "metadata": {},
   "outputs": [],
   "source": [
    "def greet(name, age):\n",
    "    name = name.upper()\n",
    "    age = age\n",
    "    return name, age"
   ]
  },
  {
   "cell_type": "code",
   "execution_count": 2,
   "id": "6bd821f8",
   "metadata": {},
   "outputs": [
    {
     "data": {
      "text/plain": [
       "('RAHUL', 25)"
      ]
     },
     "execution_count": 2,
     "metadata": {},
     "output_type": "execute_result"
    }
   ],
   "source": [
    "greet(\"rahul\", 25)"
   ]
  },
  {
   "cell_type": "code",
   "execution_count": 3,
   "id": "8c9860ea",
   "metadata": {},
   "outputs": [],
   "source": [
    "x = greet(\"rohal\", 25)"
   ]
  },
  {
   "cell_type": "code",
   "execution_count": 4,
   "id": "a906cd70",
   "metadata": {},
   "outputs": [
    {
     "data": {
      "text/plain": [
       "('ROHAL', 25)"
      ]
     },
     "execution_count": 4,
     "metadata": {},
     "output_type": "execute_result"
    }
   ],
   "source": [
    "x"
   ]
  },
  {
   "cell_type": "code",
   "execution_count": 5,
   "id": "5e6524f5",
   "metadata": {},
   "outputs": [],
   "source": [
    "name, age = x"
   ]
  },
  {
   "cell_type": "code",
   "execution_count": 6,
   "id": "76bf9649",
   "metadata": {},
   "outputs": [
    {
     "data": {
      "text/plain": [
       "'ROHAL'"
      ]
     },
     "execution_count": 6,
     "metadata": {},
     "output_type": "execute_result"
    }
   ],
   "source": [
    "name"
   ]
  },
  {
   "cell_type": "code",
   "execution_count": 7,
   "id": "d835303b",
   "metadata": {},
   "outputs": [
    {
     "data": {
      "text/plain": [
       "25"
      ]
     },
     "execution_count": 7,
     "metadata": {},
     "output_type": "execute_result"
    }
   ],
   "source": [
    "age"
   ]
  },
  {
   "cell_type": "code",
   "execution_count": null,
   "id": "8b4194b2",
   "metadata": {},
   "outputs": [],
   "source": []
  }
 ],
 "metadata": {
  "kernelspec": {
   "display_name": "Python 3 (ipykernel)",
   "language": "python",
   "name": "python3"
  },
  "language_info": {
   "codemirror_mode": {
    "name": "ipython",
    "version": 3
   },
   "file_extension": ".py",
   "mimetype": "text/x-python",
   "name": "python",
   "nbconvert_exporter": "python",
   "pygments_lexer": "ipython3",
   "version": "3.11.4"
  }
 },
 "nbformat": 4,
 "nbformat_minor": 5
}
