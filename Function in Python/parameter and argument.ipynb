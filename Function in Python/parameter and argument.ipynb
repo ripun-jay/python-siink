{
 "cells": [
  {
   "cell_type": "markdown",
   "id": "38149792",
   "metadata": {},
   "source": [
    "# Parameter and Arguments\n",
    "\n",
    "- > Placeholder in function\n",
    "- > while defing function these are called parameter\n",
    "- > while passing actual value are called argument\n",
    "some author call parameter and argument interchageably"
   ]
  },
  {
   "cell_type": "code",
   "execution_count": 2,
   "id": "09d466a4",
   "metadata": {},
   "outputs": [],
   "source": [
    "def greet(name):\n",
    "    print(f\"Hello, how are you {name}\")"
   ]
  },
  {
   "cell_type": "code",
   "execution_count": 3,
   "id": "d212a719",
   "metadata": {},
   "outputs": [
    {
     "ename": "TypeError",
     "evalue": "greet() missing 1 required positional argument: 'name'",
     "output_type": "error",
     "traceback": [
      "\u001b[1;31m---------------------------------------------------------------------------\u001b[0m",
      "\u001b[1;31mTypeError\u001b[0m                                 Traceback (most recent call last)",
      "Cell \u001b[1;32mIn[3], line 1\u001b[0m\n\u001b[1;32m----> 1\u001b[0m \u001b[43mgreet\u001b[49m\u001b[43m(\u001b[49m\u001b[43m)\u001b[49m\n",
      "\u001b[1;31mTypeError\u001b[0m: greet() missing 1 required positional argument: 'name'"
     ]
    }
   ],
   "source": [
    "greet()"
   ]
  },
  {
   "cell_type": "code",
   "execution_count": 4,
   "id": "1d964eb8",
   "metadata": {},
   "outputs": [
    {
     "name": "stdout",
     "output_type": "stream",
     "text": [
      "Hello, how are you rahul\n"
     ]
    }
   ],
   "source": [
    "greet(\"rahul\")"
   ]
  },
  {
   "cell_type": "code",
   "execution_count": 6,
   "id": "84a3e640",
   "metadata": {},
   "outputs": [],
   "source": [
    "def greet(name, age):\n",
    "    print(f\"Hello, {name}\")\n",
    "    if age > 18:\n",
    "        print(\"You can Drive The Car\")\n",
    "    else:\n",
    "        print(\"you cant drive\")"
   ]
  },
  {
   "cell_type": "code",
   "execution_count": 7,
   "id": "c22ac647",
   "metadata": {},
   "outputs": [
    {
     "ename": "TypeError",
     "evalue": "greet() missing 2 required positional arguments: 'name' and 'age'",
     "output_type": "error",
     "traceback": [
      "\u001b[1;31m---------------------------------------------------------------------------\u001b[0m",
      "\u001b[1;31mTypeError\u001b[0m                                 Traceback (most recent call last)",
      "Cell \u001b[1;32mIn[7], line 1\u001b[0m\n\u001b[1;32m----> 1\u001b[0m \u001b[43mgreet\u001b[49m\u001b[43m(\u001b[49m\u001b[43m)\u001b[49m\n",
      "\u001b[1;31mTypeError\u001b[0m: greet() missing 2 required positional arguments: 'name' and 'age'"
     ]
    }
   ],
   "source": [
    "greet()"
   ]
  },
  {
   "cell_type": "code",
   "execution_count": 8,
   "id": "c3eb96b6",
   "metadata": {},
   "outputs": [
    {
     "name": "stdout",
     "output_type": "stream",
     "text": [
      "Hello, rahul\n",
      "You can Drive The Car\n"
     ]
    }
   ],
   "source": [
    "greet(\"rahul\", 26)"
   ]
  },
  {
   "cell_type": "code",
   "execution_count": 9,
   "id": "349391a3",
   "metadata": {},
   "outputs": [
    {
     "name": "stdout",
     "output_type": "stream",
     "text": [
      "Hello, rohan\n",
      "you cant drive\n"
     ]
    }
   ],
   "source": [
    "greet(\"rohan\", 10)"
   ]
  },
  {
   "cell_type": "code",
   "execution_count": null,
   "id": "103864d0",
   "metadata": {},
   "outputs": [],
   "source": []
  }
 ],
 "metadata": {
  "kernelspec": {
   "display_name": "Python 3 (ipykernel)",
   "language": "python",
   "name": "python3"
  },
  "language_info": {
   "codemirror_mode": {
    "name": "ipython",
    "version": 3
   },
   "file_extension": ".py",
   "mimetype": "text/x-python",
   "name": "python",
   "nbconvert_exporter": "python",
   "pygments_lexer": "ipython3",
   "version": "3.11.4"
  }
 },
 "nbformat": 4,
 "nbformat_minor": 5
}
