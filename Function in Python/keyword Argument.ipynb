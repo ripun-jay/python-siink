{
 "cells": [
  {
   "cell_type": "markdown",
   "id": "fdc4e4ae",
   "metadata": {},
   "source": [
    "# Keyword argument\n",
    "\n",
    "- > variable no of key- value pair\n",
    "- > it store data in dictionary"
   ]
  },
  {
   "cell_type": "code",
   "execution_count": 2,
   "id": "76b7179c",
   "metadata": {},
   "outputs": [],
   "source": [
    "def fn(name):\n",
    "    print(len(name))\n",
    "    "
   ]
  },
  {
   "cell_type": "code",
   "execution_count": 3,
   "id": "6f766c5f",
   "metadata": {},
   "outputs": [
    {
     "name": "stdout",
     "output_type": "stream",
     "text": [
      "5\n"
     ]
    }
   ],
   "source": [
    "fn(\"rahul\")"
   ]
  },
  {
   "cell_type": "code",
   "execution_count": 4,
   "id": "884e5838",
   "metadata": {},
   "outputs": [
    {
     "ename": "TypeError",
     "evalue": "fn() got an unexpected keyword argument 'age'",
     "output_type": "error",
     "traceback": [
      "\u001b[1;31m---------------------------------------------------------------------------\u001b[0m",
      "\u001b[1;31mTypeError\u001b[0m                                 Traceback (most recent call last)",
      "Cell \u001b[1;32mIn[4], line 1\u001b[0m\n\u001b[1;32m----> 1\u001b[0m \u001b[43mfn\u001b[49m\u001b[43m(\u001b[49m\u001b[43mname\u001b[49m\u001b[43m \u001b[49m\u001b[38;5;241;43m=\u001b[39;49m\u001b[43m \u001b[49m\u001b[38;5;124;43m\"\u001b[39;49m\u001b[38;5;124;43mrahul\u001b[39;49m\u001b[38;5;124;43m\"\u001b[39;49m\u001b[43m,\u001b[49m\u001b[43m \u001b[49m\u001b[43mage\u001b[49m\u001b[43m \u001b[49m\u001b[38;5;241;43m=\u001b[39;49m\u001b[43m \u001b[49m\u001b[38;5;241;43m56\u001b[39;49m\u001b[43m,\u001b[49m\u001b[43m \u001b[49m\u001b[43mcity\u001b[49m\u001b[43m \u001b[49m\u001b[38;5;241;43m=\u001b[39;49m\u001b[43m \u001b[49m\u001b[38;5;124;43m\"\u001b[39;49m\u001b[38;5;124;43mdeilho\u001b[39;49m\u001b[38;5;124;43m\"\u001b[39;49m\u001b[43m)\u001b[49m\n",
      "\u001b[1;31mTypeError\u001b[0m: fn() got an unexpected keyword argument 'age'"
     ]
    }
   ],
   "source": [
    "fn(name = \"rahul\", age = 56, city = \"deilho\")"
   ]
  },
  {
   "cell_type": "code",
   "execution_count": 5,
   "id": "77e8534e",
   "metadata": {},
   "outputs": [],
   "source": [
    "def gx(**kwargs):\n",
    "    print(kwargs)\n",
    "    print(type(kwargs))"
   ]
  },
  {
   "cell_type": "code",
   "execution_count": 6,
   "id": "279489c4",
   "metadata": {},
   "outputs": [
    {
     "name": "stdout",
     "output_type": "stream",
     "text": [
      "{'name': 'rahul', 'age': 56, 'city': 'deilho'}\n",
      "<class 'dict'>\n"
     ]
    }
   ],
   "source": [
    "gx(name = \"rahul\", age = 56, city = \"deilho\")"
   ]
  },
  {
   "cell_type": "code",
   "execution_count": 9,
   "id": "1791dd27",
   "metadata": {},
   "outputs": [],
   "source": [
    "def gx(**kwargs):\n",
    "    for i in kwargs:\n",
    "        print(f\"your {i} is: {kwargs[i]}\")\n",
    "    "
   ]
  },
  {
   "cell_type": "code",
   "execution_count": 10,
   "id": "cd89b15b",
   "metadata": {},
   "outputs": [
    {
     "name": "stdout",
     "output_type": "stream",
     "text": [
      "your name is: rahul\n",
      "your age is: 56\n",
      "your city is: deilho\n",
      "your height is: 5.1\n"
     ]
    }
   ],
   "source": [
    "gx(name = \"rahul\", age = 56, city = \"deilho\", height = 5.10)"
   ]
  },
  {
   "cell_type": "code",
   "execution_count": 11,
   "id": "30b55d29",
   "metadata": {},
   "outputs": [
    {
     "name": "stdout",
     "output_type": "stream",
     "text": [
      "5.1\n"
     ]
    }
   ],
   "source": [
    "print(5.100)"
   ]
  },
  {
   "cell_type": "code",
   "execution_count": 12,
   "id": "33894f5c",
   "metadata": {},
   "outputs": [
    {
     "name": "stdout",
     "output_type": "stream",
     "text": [
      "5.1\n"
     ]
    }
   ],
   "source": [
    "print(round(5.100, 2))"
   ]
  },
  {
   "cell_type": "code",
   "execution_count": null,
   "id": "227fa517",
   "metadata": {},
   "outputs": [],
   "source": []
  }
 ],
 "metadata": {
  "kernelspec": {
   "display_name": "Python 3 (ipykernel)",
   "language": "python",
   "name": "python3"
  },
  "language_info": {
   "codemirror_mode": {
    "name": "ipython",
    "version": 3
   },
   "file_extension": ".py",
   "mimetype": "text/x-python",
   "name": "python",
   "nbconvert_exporter": "python",
   "pygments_lexer": "ipython3",
   "version": "3.11.4"
  }
 },
 "nbformat": 4,
 "nbformat_minor": 5
}
