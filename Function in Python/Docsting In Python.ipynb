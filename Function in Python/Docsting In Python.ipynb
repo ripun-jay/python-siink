{
 "cells": [
  {
   "cell_type": "raw",
   "id": "c6926cec",
   "metadata": {},
   "source": [
    "Docstring:\n",
    "    \n",
    "     detail about function to user --> what function will do and their paramer etc.."
   ]
  },
  {
   "cell_type": "code",
   "execution_count": 2,
   "id": "e9356bb1",
   "metadata": {},
   "outputs": [],
   "source": [
    "# define docstr"
   ]
  },
  {
   "cell_type": "code",
   "execution_count": 6,
   "id": "58eb7fbc",
   "metadata": {},
   "outputs": [],
   "source": [
    "def greet():\n",
    "    \"\"\"it will greet someone\n",
    "    and then ask for age\n",
    "    \"\"\"\n",
    "    print(\"Hello\")\n",
    "    print(\"How are you\")"
   ]
  },
  {
   "cell_type": "code",
   "execution_count": 7,
   "id": "03a64f8a",
   "metadata": {},
   "outputs": [
    {
     "name": "stdout",
     "output_type": "stream",
     "text": [
      "Hello\n",
      "How are you\n"
     ]
    }
   ],
   "source": [
    "greet()"
   ]
  },
  {
   "cell_type": "code",
   "execution_count": 8,
   "id": "468bc68b",
   "metadata": {},
   "outputs": [],
   "source": [
    "greet?"
   ]
  },
  {
   "cell_type": "code",
   "execution_count": null,
   "id": "340585d3",
   "metadata": {},
   "outputs": [],
   "source": []
  }
 ],
 "metadata": {
  "kernelspec": {
   "display_name": "Python 3 (ipykernel)",
   "language": "python",
   "name": "python3"
  },
  "language_info": {
   "codemirror_mode": {
    "name": "ipython",
    "version": 3
   },
   "file_extension": ".py",
   "mimetype": "text/x-python",
   "name": "python",
   "nbconvert_exporter": "python",
   "pygments_lexer": "ipython3",
   "version": "3.11.4"
  }
 },
 "nbformat": 4,
 "nbformat_minor": 5
}
