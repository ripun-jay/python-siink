{
 "cells": [
  {
   "cell_type": "markdown",
   "id": "7bbe7a35",
   "metadata": {},
   "source": [
    "# Positional Argument:\n",
    "> passing the value while calling a function will be matched to parameter according to their position"
   ]
  },
  {
   "cell_type": "code",
   "execution_count": 3,
   "id": "a5c15c66",
   "metadata": {},
   "outputs": [],
   "source": [
    "def a(name, age):\n",
    "    print(\"name is \", name)\n",
    "    print(\"age is\", age)"
   ]
  },
  {
   "cell_type": "code",
   "execution_count": 4,
   "id": "007a3519",
   "metadata": {},
   "outputs": [
    {
     "name": "stdout",
     "output_type": "stream",
     "text": [
      "name is  rahul\n",
      "age is 25\n"
     ]
    }
   ],
   "source": [
    "a(\"rahul\", 25)"
   ]
  },
  {
   "cell_type": "code",
   "execution_count": 5,
   "id": "d63833c3",
   "metadata": {},
   "outputs": [
    {
     "name": "stdout",
     "output_type": "stream",
     "text": [
      "name is  25\n",
      "age is rahul\n"
     ]
    }
   ],
   "source": [
    "a(25, \"rahul\")"
   ]
  },
  {
   "cell_type": "code",
   "execution_count": null,
   "id": "428ab30f",
   "metadata": {},
   "outputs": [],
   "source": []
  }
 ],
 "metadata": {
  "kernelspec": {
   "display_name": "Python 3 (ipykernel)",
   "language": "python",
   "name": "python3"
  },
  "language_info": {
   "codemirror_mode": {
    "name": "ipython",
    "version": 3
   },
   "file_extension": ".py",
   "mimetype": "text/x-python",
   "name": "python",
   "nbconvert_exporter": "python",
   "pygments_lexer": "ipython3",
   "version": "3.11.4"
  }
 },
 "nbformat": 4,
 "nbformat_minor": 5
}
