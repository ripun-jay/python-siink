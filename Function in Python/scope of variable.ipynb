{
 "cells": [
  {
   "cell_type": "raw",
   "id": "c7959891",
   "metadata": {},
   "source": [
    "# Scope of Varible: two scopes\n",
    "\n",
    "\n",
    "Global - we can use it anywhere in program\n",
    "Local - we can not use it everywhere, it exicitance will be localy"
   ]
  },
  {
   "cell_type": "code",
   "execution_count": 18,
   "id": "c83ac0c5",
   "metadata": {},
   "outputs": [],
   "source": [
    "popu = 0\n",
    "\n",
    "def register(name, age):\n",
    "    global popu\n",
    "    global age_remaining\n",
    "    popu = popu + 1\n",
    "    age_remaining = 30 - age\n",
    "    "
   ]
  },
  {
   "cell_type": "code",
   "execution_count": 4,
   "id": "02bb2309",
   "metadata": {},
   "outputs": [],
   "source": [
    "register(\"rahul\", 26)"
   ]
  },
  {
   "cell_type": "code",
   "execution_count": 5,
   "id": "6d179e5c",
   "metadata": {},
   "outputs": [
    {
     "data": {
      "text/plain": [
       "1"
      ]
     },
     "execution_count": 5,
     "metadata": {},
     "output_type": "execute_result"
    }
   ],
   "source": [
    "popu"
   ]
  },
  {
   "cell_type": "code",
   "execution_count": 6,
   "id": "8c685a50",
   "metadata": {},
   "outputs": [],
   "source": [
    "register(\"rohan\", 26)"
   ]
  },
  {
   "cell_type": "code",
   "execution_count": 8,
   "id": "1b31129b",
   "metadata": {},
   "outputs": [],
   "source": [
    "register(\"xyz\", 50)"
   ]
  },
  {
   "cell_type": "code",
   "execution_count": 10,
   "id": "7ae40720",
   "metadata": {},
   "outputs": [
    {
     "data": {
      "text/plain": [
       "4"
      ]
     },
     "execution_count": 10,
     "metadata": {},
     "output_type": "execute_result"
    }
   ],
   "source": [
    "popu"
   ]
  },
  {
   "cell_type": "code",
   "execution_count": 11,
   "id": "a379473d",
   "metadata": {},
   "outputs": [],
   "source": [
    "register(\"he\", 52)"
   ]
  },
  {
   "cell_type": "code",
   "execution_count": 19,
   "id": "cac80dc1",
   "metadata": {},
   "outputs": [
    {
     "ename": "NameError",
     "evalue": "name 'age_remaining' is not defined",
     "output_type": "error",
     "traceback": [
      "\u001b[1;31m---------------------------------------------------------------------------\u001b[0m",
      "\u001b[1;31mNameError\u001b[0m                                 Traceback (most recent call last)",
      "Cell \u001b[1;32mIn[19], line 1\u001b[0m\n\u001b[1;32m----> 1\u001b[0m \u001b[43mage_remaining\u001b[49m\n",
      "\u001b[1;31mNameError\u001b[0m: name 'age_remaining' is not defined"
     ]
    }
   ],
   "source": [
    "age_remaining"
   ]
  },
  {
   "cell_type": "code",
   "execution_count": 30,
   "id": "ed5f5652",
   "metadata": {},
   "outputs": [
    {
     "name": "stdout",
     "output_type": "stream",
     "text": [
      "5\n",
      "20\n",
      "20\n"
     ]
    }
   ],
   "source": [
    "a = 5\n",
    "\n",
    "def fn():\n",
    "    global a\n",
    "    print(a)\n",
    "    a = 20\n",
    "    print(a)\n",
    "    \n",
    "    \n",
    "    \n",
    "\n",
    "fn()\n",
    "print(a)"
   ]
  },
  {
   "cell_type": "code",
   "execution_count": 32,
   "id": "f15e328d",
   "metadata": {},
   "outputs": [
    {
     "ename": "UnboundLocalError",
     "evalue": "cannot access local variable 'a' where it is not associated with a value",
     "output_type": "error",
     "traceback": [
      "\u001b[1;31m---------------------------------------------------------------------------\u001b[0m",
      "\u001b[1;31mUnboundLocalError\u001b[0m                         Traceback (most recent call last)",
      "Cell \u001b[1;32mIn[32], line 9\u001b[0m\n\u001b[0;32m      6\u001b[0m     \u001b[38;5;28mprint\u001b[39m(b)\n\u001b[0;32m      7\u001b[0m     a \u001b[38;5;241m=\u001b[39m \u001b[38;5;241m20\u001b[39m\n\u001b[1;32m----> 9\u001b[0m \u001b[43mg\u001b[49m\u001b[43m(\u001b[49m\u001b[43m)\u001b[49m\n",
      "Cell \u001b[1;32mIn[32], line 4\u001b[0m, in \u001b[0;36mg\u001b[1;34m()\u001b[0m\n\u001b[0;32m      3\u001b[0m \u001b[38;5;28;01mdef\u001b[39;00m \u001b[38;5;21mg\u001b[39m():\n\u001b[1;32m----> 4\u001b[0m     \u001b[38;5;28mprint\u001b[39m(\u001b[43ma\u001b[49m)\n\u001b[0;32m      5\u001b[0m     b \u001b[38;5;241m=\u001b[39m a\n\u001b[0;32m      6\u001b[0m     \u001b[38;5;28mprint\u001b[39m(b)\n",
      "\u001b[1;31mUnboundLocalError\u001b[0m: cannot access local variable 'a' where it is not associated with a value"
     ]
    }
   ],
   "source": [
    "a = 20\n",
    "\n",
    "def g():\n",
    "    print(a)\n",
    "    b = a\n",
    "    print(b)\n",
    "    a = 20\n",
    "    \n",
    "g()"
   ]
  },
  {
   "cell_type": "code",
   "execution_count": null,
   "id": "8705653e",
   "metadata": {},
   "outputs": [],
   "source": []
  }
 ],
 "metadata": {
  "kernelspec": {
   "display_name": "Python 3 (ipykernel)",
   "language": "python",
   "name": "python3"
  },
  "language_info": {
   "codemirror_mode": {
    "name": "ipython",
    "version": 3
   },
   "file_extension": ".py",
   "mimetype": "text/x-python",
   "name": "python",
   "nbconvert_exporter": "python",
   "pygments_lexer": "ipython3",
   "version": "3.11.4"
  }
 },
 "nbformat": 4,
 "nbformat_minor": 5
}
