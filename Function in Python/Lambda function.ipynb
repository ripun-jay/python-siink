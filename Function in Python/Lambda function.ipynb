{
 "cells": [
  {
   "cell_type": "markdown",
   "id": "b995f758",
   "metadata": {},
   "source": [
    "## Lambda Function\n",
    "- > when we need nameless function for short peroid of time"
   ]
  },
  {
   "cell_type": "markdown",
   "id": "724174a5",
   "metadata": {},
   "source": [
    "# lambda (parameters) : (expreseeion,) -- which we want rhis fn to return"
   ]
  },
  {
   "cell_type": "code",
   "execution_count": 6,
   "id": "861bc38f",
   "metadata": {},
   "outputs": [],
   "source": [
    "# cre\n",
    "\n",
    "x = lambda a,b : a + b"
   ]
  },
  {
   "cell_type": "code",
   "execution_count": 7,
   "id": "a30dca1e",
   "metadata": {},
   "outputs": [
    {
     "data": {
      "text/plain": [
       "<function __main__.<lambda>(a, b)>"
      ]
     },
     "execution_count": 7,
     "metadata": {},
     "output_type": "execute_result"
    }
   ],
   "source": [
    "x"
   ]
  },
  {
   "cell_type": "code",
   "execution_count": 8,
   "id": "48ce280b",
   "metadata": {},
   "outputs": [
    {
     "data": {
      "text/plain": [
       "7"
      ]
     },
     "execution_count": 8,
     "metadata": {},
     "output_type": "execute_result"
    }
   ],
   "source": [
    "x(2,5)"
   ]
  },
  {
   "cell_type": "code",
   "execution_count": 9,
   "id": "8f65970e",
   "metadata": {},
   "outputs": [
    {
     "data": {
      "text/plain": [
       "60"
      ]
     },
     "execution_count": 9,
     "metadata": {},
     "output_type": "execute_result"
    }
   ],
   "source": [
    "(lambda a, b, c : a*b*c)(2,5,6)"
   ]
  },
  {
   "cell_type": "code",
   "execution_count": 10,
   "id": "d5412d4e",
   "metadata": {},
   "outputs": [],
   "source": [
    "[5,2,9].sort()"
   ]
  },
  {
   "cell_type": "code",
   "execution_count": 12,
   "id": "4aa35ced",
   "metadata": {},
   "outputs": [
    {
     "data": {
      "text/plain": [
       "[9, 5, 2]"
      ]
     },
     "execution_count": 12,
     "metadata": {},
     "output_type": "execute_result"
    }
   ],
   "source": [
    "sorted([5,2,9], key= lambda x: 10-x)"
   ]
  },
  {
   "cell_type": "code",
   "execution_count": null,
   "id": "be850e7e",
   "metadata": {},
   "outputs": [],
   "source": []
  }
 ],
 "metadata": {
  "kernelspec": {
   "display_name": "Python 3 (ipykernel)",
   "language": "python",
   "name": "python3"
  },
  "language_info": {
   "codemirror_mode": {
    "name": "ipython",
    "version": 3
   },
   "file_extension": ".py",
   "mimetype": "text/x-python",
   "name": "python",
   "nbconvert_exporter": "python",
   "pygments_lexer": "ipython3",
   "version": "3.11.4"
  }
 },
 "nbformat": 4,
 "nbformat_minor": 5
}
