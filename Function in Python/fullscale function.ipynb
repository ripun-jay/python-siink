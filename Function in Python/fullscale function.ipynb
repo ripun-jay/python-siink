{
 "cells": [
  {
   "cell_type": "raw",
   "id": "dddcb537",
   "metadata": {},
   "source": [
    "# function with many type of argument \n",
    "- increase population with every registary\n",
    "- append all the names"
   ]
  },
  {
   "cell_type": "code",
   "execution_count": 12,
   "id": "ace8f7de",
   "metadata": {},
   "outputs": [
    {
     "ename": "SyntaxError",
     "evalue": "arguments cannot follow var-keyword argument (1155481762.py, line 4)",
     "output_type": "error",
     "traceback": [
      "\u001b[1;36m  Cell \u001b[1;32mIn[12], line 4\u001b[1;36m\u001b[0m\n\u001b[1;33m    def registry(name, age, *args, **kwargs, salary = 1000):\u001b[0m\n\u001b[1;37m                                             ^\u001b[0m\n\u001b[1;31mSyntaxError\u001b[0m\u001b[1;31m:\u001b[0m arguments cannot follow var-keyword argument\n"
     ]
    }
   ],
   "source": [
    "population = 0\n",
    "names = []\n",
    "\n",
    "def registry(name, age, *args, **kwargs, salary = 1000):\n",
    "    global population\n",
    "    global names\n",
    "    population +=1 \n",
    "    names.append(name)\n",
    "    \n",
    "    print(f\"{name}'s salary is:  {salary}\")\n",
    "    \n",
    "    for element in args:\n",
    "        print(element)\n",
    "        \n",
    "    for i,j in kwargs.items():\n",
    "        print(i, \"--->\", j)\n",
    "    "
   ]
  },
  {
   "cell_type": "code",
   "execution_count": 5,
   "id": "2985f2e3",
   "metadata": {},
   "outputs": [
    {
     "name": "stdout",
     "output_type": "stream",
     "text": [
      "rahul's salary is:  10\n",
      "hehe\n",
      "huhu\n",
      "height ---> 50km\n",
      "city ---> delhi\n"
     ]
    }
   ],
   "source": [
    "registry(\"rahul\", 26, 10, \"hehe\", \"huhu\", height = \"50km\", city= \"delhi\")"
   ]
  },
  {
   "cell_type": "code",
   "execution_count": 6,
   "id": "cc8e464c",
   "metadata": {},
   "outputs": [
    {
     "data": {
      "text/plain": [
       "1"
      ]
     },
     "execution_count": 6,
     "metadata": {},
     "output_type": "execute_result"
    }
   ],
   "source": [
    "population"
   ]
  },
  {
   "cell_type": "code",
   "execution_count": 7,
   "id": "26f7a296",
   "metadata": {},
   "outputs": [
    {
     "data": {
      "text/plain": [
       "['rahul']"
      ]
     },
     "execution_count": 7,
     "metadata": {},
     "output_type": "execute_result"
    }
   ],
   "source": [
    "names"
   ]
  },
  {
   "cell_type": "code",
   "execution_count": 8,
   "id": "679fdf88",
   "metadata": {},
   "outputs": [
    {
     "name": "stdout",
     "output_type": "stream",
     "text": [
      "jonh's salary is:  10\n",
      "No\n",
      "lets go\n",
      "height ---> 50km\n",
      "city ---> delhi\n",
      "alive ---> True\n"
     ]
    }
   ],
   "source": [
    "registry(\"jonh\", 26, 10, \"No\", \"lets go\", height = \"50km\", city= \"delhi\", alive = True)"
   ]
  },
  {
   "cell_type": "code",
   "execution_count": 9,
   "id": "23a8ca08",
   "metadata": {},
   "outputs": [
    {
     "name": "stdout",
     "output_type": "stream",
     "text": [
      "GInehsbvkshv's salary is:  10\n",
      "No\n",
      "lets go\n",
      "height ---> 50km\n",
      "city ---> delhi\n",
      "alive ---> True\n"
     ]
    }
   ],
   "source": [
    "registry(\"GInehsbvkshv\", 26, 10, \"No\", \"lets go\", height = \"50km\", city= \"delhi\", alive = True)"
   ]
  },
  {
   "cell_type": "code",
   "execution_count": 10,
   "id": "cbcfc680",
   "metadata": {},
   "outputs": [
    {
     "data": {
      "text/plain": [
       "3"
      ]
     },
     "execution_count": 10,
     "metadata": {},
     "output_type": "execute_result"
    }
   ],
   "source": [
    "population"
   ]
  },
  {
   "cell_type": "code",
   "execution_count": 11,
   "id": "d01ca946",
   "metadata": {},
   "outputs": [
    {
     "data": {
      "text/plain": [
       "['rahul', 'jonh', 'GInehsbvkshv']"
      ]
     },
     "execution_count": 11,
     "metadata": {},
     "output_type": "execute_result"
    }
   ],
   "source": [
    "names"
   ]
  },
  {
   "cell_type": "code",
   "execution_count": null,
   "id": "6f42c1d5",
   "metadata": {},
   "outputs": [],
   "source": [
    "registry(\"xxx\", \"tt\", )"
   ]
  }
 ],
 "metadata": {
  "kernelspec": {
   "display_name": "Python 3 (ipykernel)",
   "language": "python",
   "name": "python3"
  },
  "language_info": {
   "codemirror_mode": {
    "name": "ipython",
    "version": 3
   },
   "file_extension": ".py",
   "mimetype": "text/x-python",
   "name": "python",
   "nbconvert_exporter": "python",
   "pygments_lexer": "ipython3",
   "version": "3.11.4"
  }
 },
 "nbformat": 4,
 "nbformat_minor": 5
}
