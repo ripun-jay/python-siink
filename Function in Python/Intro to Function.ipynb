{
 "cells": [
  {
   "cell_type": "raw",
   "id": "0e5bd041",
   "metadata": {},
   "source": [
    "Function\n",
    "\n",
    "- its is piece of code\n",
    "- it works only when, it excecute\n",
    "- it help us in re-usability of code\n",
    "- there are two type of function\n",
    "        1. Built-in - print(), range()\n",
    "        2. Custom Function -  defined by us as per the task\n"
   ]
  },
  {
   "cell_type": "code",
   "execution_count": 1,
   "id": "57145b43",
   "metadata": {},
   "outputs": [
    {
     "name": "stdout",
     "output_type": "stream",
     "text": [
      "welcome, how are you\n",
      "age\n",
      "welcome, how are you\n",
      "age\n",
      "welcome, how are you\n",
      "age\n"
     ]
    }
   ],
   "source": [
    "print(\"welcome, how are you\")\n",
    "print(\"age\")\n",
    "\n",
    "\n",
    "print(\"welcome, how are you\")\n",
    "print(\"age\")\n",
    "\n",
    "\n",
    "# few code\n",
    "\n",
    "print(\"welcome, how are you\")\n",
    "print(\"age\")"
   ]
  },
  {
   "cell_type": "code",
   "execution_count": 2,
   "id": "6a562ae7",
   "metadata": {},
   "outputs": [],
   "source": [
    "# create\n",
    "\n",
    "def greet():\n",
    "    print(\"how are you\")\n",
    "    age = input(\"what's your name:  \")\n",
    "    \n",
    "    "
   ]
  },
  {
   "cell_type": "code",
   "execution_count": 3,
   "id": "0371f189",
   "metadata": {},
   "outputs": [
    {
     "name": "stdout",
     "output_type": "stream",
     "text": [
      "how are you\n",
      "what's your name:  rahul\n"
     ]
    }
   ],
   "source": [
    "greet()"
   ]
  },
  {
   "cell_type": "code",
   "execution_count": 4,
   "id": "508c0f03",
   "metadata": {},
   "outputs": [
    {
     "name": "stdout",
     "output_type": "stream",
     "text": [
      "how are you\n",
      "what's your name:  1\n"
     ]
    }
   ],
   "source": [
    "greet()"
   ]
  },
  {
   "cell_type": "code",
   "execution_count": null,
   "id": "2ad1633f",
   "metadata": {},
   "outputs": [],
   "source": []
  }
 ],
 "metadata": {
  "kernelspec": {
   "display_name": "Python 3 (ipykernel)",
   "language": "python",
   "name": "python3"
  },
  "language_info": {
   "codemirror_mode": {
    "name": "ipython",
    "version": 3
   },
   "file_extension": ".py",
   "mimetype": "text/x-python",
   "name": "python",
   "nbconvert_exporter": "python",
   "pygments_lexer": "ipython3",
   "version": "3.11.4"
  }
 },
 "nbformat": 4,
 "nbformat_minor": 5
}
