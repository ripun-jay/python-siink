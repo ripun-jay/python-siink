{
 "cells": [
  {
   "cell_type": "markdown",
   "id": "0bfe91fc",
   "metadata": {},
   "source": [
    "# # RETURN\n",
    "    \n",
    "- > when function hit return then it will stop excicution subsequent codes in function and get out of the function.\n",
    "- > a function calls end when return statement is excecuted\n",
    "- > it return the expression back to the function\n",
    "- > if there is no return value or if return statment not defined then the function will return None(no value at all)"
   ]
  },
  {
   "cell_type": "code",
   "execution_count": 2,
   "id": "ece654b3",
   "metadata": {},
   "outputs": [
    {
     "ename": "SyntaxError",
     "evalue": "'return' outside function (2717028865.py, line 1)",
     "output_type": "error",
     "traceback": [
      "\u001b[1;36m  Cell \u001b[1;32mIn[2], line 1\u001b[1;36m\u001b[0m\n\u001b[1;33m    return \"so\"\u001b[0m\n\u001b[1;37m    ^\u001b[0m\n\u001b[1;31mSyntaxError\u001b[0m\u001b[1;31m:\u001b[0m 'return' outside function\n"
     ]
    }
   ],
   "source": [
    "return \"so\""
   ]
  },
  {
   "cell_type": "code",
   "execution_count": 7,
   "id": "38fa1834",
   "metadata": {},
   "outputs": [],
   "source": [
    "def greet():\n",
    "    print(\"hello\")\n",
    "    return \"Hello\""
   ]
  },
  {
   "cell_type": "code",
   "execution_count": 8,
   "id": "7c6a316b",
   "metadata": {},
   "outputs": [
    {
     "name": "stdout",
     "output_type": "stream",
     "text": [
      "hello\n"
     ]
    }
   ],
   "source": [
    "x = greet()"
   ]
  },
  {
   "cell_type": "code",
   "execution_count": 9,
   "id": "a3ef218f",
   "metadata": {},
   "outputs": [
    {
     "name": "stdout",
     "output_type": "stream",
     "text": [
      "Hello\n"
     ]
    }
   ],
   "source": [
    "print(x)"
   ]
  },
  {
   "cell_type": "code",
   "execution_count": 18,
   "id": "55ef6359",
   "metadata": {},
   "outputs": [],
   "source": [
    "def eligible(age):\n",
    "    print(\"wow\")\n",
    "    print(\"go\")\n",
    "    if age > 18:\n",
    "        return \"you can drive\"\n",
    "    else:\n",
    "        return \"you cant drive\"\n",
    "    print(\"wow\")\n",
    "    print(\"go\")"
   ]
  },
  {
   "cell_type": "code",
   "execution_count": 19,
   "id": "bf71aaa5",
   "metadata": {},
   "outputs": [
    {
     "name": "stdout",
     "output_type": "stream",
     "text": [
      "wow\n",
      "go\n"
     ]
    },
    {
     "data": {
      "text/plain": [
       "'you cant drive'"
      ]
     },
     "execution_count": 19,
     "metadata": {},
     "output_type": "execute_result"
    }
   ],
   "source": [
    "eligible(18)"
   ]
  },
  {
   "cell_type": "code",
   "execution_count": 16,
   "id": "70e70e1e",
   "metadata": {},
   "outputs": [],
   "source": [
    "x = eligible(15)"
   ]
  },
  {
   "cell_type": "code",
   "execution_count": 17,
   "id": "8e3e9751",
   "metadata": {},
   "outputs": [
    {
     "data": {
      "text/plain": [
       "'you cant drive'"
      ]
     },
     "execution_count": 17,
     "metadata": {},
     "output_type": "execute_result"
    }
   ],
   "source": [
    "x"
   ]
  },
  {
   "cell_type": "code",
   "execution_count": null,
   "id": "61fc4482",
   "metadata": {},
   "outputs": [],
   "source": []
  }
 ],
 "metadata": {
  "kernelspec": {
   "display_name": "Python 3 (ipykernel)",
   "language": "python",
   "name": "python3"
  },
  "language_info": {
   "codemirror_mode": {
    "name": "ipython",
    "version": 3
   },
   "file_extension": ".py",
   "mimetype": "text/x-python",
   "name": "python",
   "nbconvert_exporter": "python",
   "pygments_lexer": "ipython3",
   "version": "3.11.4"
  }
 },
 "nbformat": 4,
 "nbformat_minor": 5
}
