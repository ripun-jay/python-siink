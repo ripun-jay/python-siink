{
 "cells": [
  {
   "cell_type": "raw",
   "id": "0c9eadf5",
   "metadata": {},
   "source": [
    "tuple operations\n",
    "\n",
    "- count\n",
    "- index\n",
    "- iteration over tuple\n",
    "- concatination\n",
    "- tuple to list\n",
    "- list to tuple"
   ]
  },
  {
   "cell_type": "code",
   "execution_count": 1,
   "id": "93bc8dff",
   "metadata": {},
   "outputs": [
    {
     "data": {
      "text/plain": [
       "2"
      ]
     },
     "execution_count": 1,
     "metadata": {},
     "output_type": "execute_result"
    }
   ],
   "source": [
    "# count\n",
    "s = (1, 5,4,2,1)\n",
    "s.count(1)"
   ]
  },
  {
   "cell_type": "code",
   "execution_count": 3,
   "id": "78667b2b",
   "metadata": {},
   "outputs": [
    {
     "data": {
      "text/plain": [
       "1"
      ]
     },
     "execution_count": 3,
     "metadata": {},
     "output_type": "execute_result"
    }
   ],
   "source": [
    "s.index(5)"
   ]
  },
  {
   "cell_type": "code",
   "execution_count": 4,
   "id": "e67c1959",
   "metadata": {},
   "outputs": [],
   "source": [
    "# iter"
   ]
  },
  {
   "cell_type": "code",
   "execution_count": 5,
   "id": "53394d20",
   "metadata": {},
   "outputs": [
    {
     "data": {
      "text/plain": [
       "(1, 5, 4, 2, 1)"
      ]
     },
     "execution_count": 5,
     "metadata": {},
     "output_type": "execute_result"
    }
   ],
   "source": [
    "s"
   ]
  },
  {
   "cell_type": "code",
   "execution_count": 6,
   "id": "2d67ca98",
   "metadata": {},
   "outputs": [
    {
     "name": "stdout",
     "output_type": "stream",
     "text": [
      "1\n",
      "25\n",
      "16\n",
      "4\n",
      "1\n"
     ]
    }
   ],
   "source": [
    "for i in s:\n",
    "    print(i**2)"
   ]
  },
  {
   "cell_type": "code",
   "execution_count": 7,
   "id": "35a22f87",
   "metadata": {},
   "outputs": [],
   "source": [
    "# concat"
   ]
  },
  {
   "cell_type": "code",
   "execution_count": 8,
   "id": "578fa27d",
   "metadata": {},
   "outputs": [
    {
     "data": {
      "text/plain": [
       "'rippur'"
      ]
     },
     "execution_count": 8,
     "metadata": {},
     "output_type": "execute_result"
    }
   ],
   "source": [
    "\"rip\" + \"pur\""
   ]
  },
  {
   "cell_type": "code",
   "execution_count": 9,
   "id": "78782b93",
   "metadata": {},
   "outputs": [
    {
     "data": {
      "text/plain": [
       "(1, 2, 3, 'a', 'b')"
      ]
     },
     "execution_count": 9,
     "metadata": {},
     "output_type": "execute_result"
    }
   ],
   "source": [
    "(1,2,3) + (\"a\", \"b\")"
   ]
  },
  {
   "cell_type": "code",
   "execution_count": 10,
   "id": "0aabec79",
   "metadata": {},
   "outputs": [
    {
     "data": {
      "text/plain": [
       "(1, 2, 3, 'a', 'b')"
      ]
     },
     "execution_count": 10,
     "metadata": {},
     "output_type": "execute_result"
    }
   ],
   "source": [
    "a = (1,2,3)\n",
    "b = (\"a\", \"b\")\n",
    "a+b"
   ]
  },
  {
   "cell_type": "code",
   "execution_count": 11,
   "id": "412663c7",
   "metadata": {},
   "outputs": [
    {
     "data": {
      "text/plain": [
       "(1, 2, 3)"
      ]
     },
     "execution_count": 11,
     "metadata": {},
     "output_type": "execute_result"
    }
   ],
   "source": [
    "a"
   ]
  },
  {
   "cell_type": "markdown",
   "id": "5d92545b",
   "metadata": {},
   "source": [
    "# type chag\n",
    "str\n",
    "list\n",
    "tuple"
   ]
  },
  {
   "cell_type": "code",
   "execution_count": 14,
   "id": "13e0bdfc",
   "metadata": {},
   "outputs": [],
   "source": [
    "l = [1,2,3]\n",
    "t = tuple(l)"
   ]
  },
  {
   "cell_type": "code",
   "execution_count": 15,
   "id": "ea965af5",
   "metadata": {},
   "outputs": [
    {
     "data": {
      "text/plain": [
       "(1, 2, 3)"
      ]
     },
     "execution_count": 15,
     "metadata": {},
     "output_type": "execute_result"
    }
   ],
   "source": [
    "t"
   ]
  },
  {
   "cell_type": "code",
   "execution_count": 16,
   "id": "254c27a7",
   "metadata": {},
   "outputs": [],
   "source": [
    "ll = list(t)"
   ]
  },
  {
   "cell_type": "code",
   "execution_count": 17,
   "id": "f018dd43",
   "metadata": {},
   "outputs": [
    {
     "data": {
      "text/plain": [
       "[1, 2, 3]"
      ]
     },
     "execution_count": 17,
     "metadata": {},
     "output_type": "execute_result"
    }
   ],
   "source": [
    "ll"
   ]
  },
  {
   "cell_type": "code",
   "execution_count": 18,
   "id": "09a4cbc3",
   "metadata": {},
   "outputs": [
    {
     "data": {
      "text/plain": [
       "('r', 'i', 'p')"
      ]
     },
     "execution_count": 18,
     "metadata": {},
     "output_type": "execute_result"
    }
   ],
   "source": [
    "st = \"rip\"\n",
    "t = tuple(st)\n",
    "t"
   ]
  },
  {
   "cell_type": "code",
   "execution_count": 21,
   "id": "3bde8f99",
   "metadata": {},
   "outputs": [
    {
     "data": {
      "text/plain": [
       "\"('r', 'i', 'p')\""
      ]
     },
     "execution_count": 21,
     "metadata": {},
     "output_type": "execute_result"
    }
   ],
   "source": [
    "s = str(t)\n",
    "s"
   ]
  },
  {
   "cell_type": "code",
   "execution_count": 22,
   "id": "00a68756",
   "metadata": {},
   "outputs": [
    {
     "name": "stdout",
     "output_type": "stream",
     "text": [
      "('r', 'i', 'p')\n"
     ]
    }
   ],
   "source": [
    "print(s)"
   ]
  },
  {
   "cell_type": "code",
   "execution_count": 23,
   "id": "2f73a1fc",
   "metadata": {},
   "outputs": [
    {
     "data": {
      "text/plain": [
       "'('"
      ]
     },
     "execution_count": 23,
     "metadata": {},
     "output_type": "execute_result"
    }
   ],
   "source": [
    "s[0]"
   ]
  },
  {
   "cell_type": "code",
   "execution_count": 24,
   "id": "20d011fa",
   "metadata": {},
   "outputs": [],
   "source": [
    "l = [1,2]\n",
    "s = str(l)"
   ]
  },
  {
   "cell_type": "code",
   "execution_count": 25,
   "id": "54c933e8",
   "metadata": {},
   "outputs": [
    {
     "data": {
      "text/plain": [
       "'[1, 2]'"
      ]
     },
     "execution_count": 25,
     "metadata": {},
     "output_type": "execute_result"
    }
   ],
   "source": [
    "s"
   ]
  },
  {
   "cell_type": "code",
   "execution_count": null,
   "id": "32af24c5",
   "metadata": {},
   "outputs": [],
   "source": []
  }
 ],
 "metadata": {
  "kernelspec": {
   "display_name": "Python 3 (ipykernel)",
   "language": "python",
   "name": "python3"
  },
  "language_info": {
   "codemirror_mode": {
    "name": "ipython",
    "version": 3
   },
   "file_extension": ".py",
   "mimetype": "text/x-python",
   "name": "python",
   "nbconvert_exporter": "python",
   "pygments_lexer": "ipython3",
   "version": "3.11.4"
  }
 },
 "nbformat": 4,
 "nbformat_minor": 5
}
